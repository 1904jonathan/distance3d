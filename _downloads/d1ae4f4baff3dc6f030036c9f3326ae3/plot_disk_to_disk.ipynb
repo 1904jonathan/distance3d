{
  "cells": [
    {
      "cell_type": "code",
      "execution_count": null,
      "metadata": {
        "collapsed": false
      },
      "outputs": [],
      "source": [
        "%matplotlib inline"
      ]
    },
    {
      "cell_type": "markdown",
      "metadata": {},
      "source": [
        "\n# Distance between two disks\n"
      ]
    },
    {
      "cell_type": "code",
      "execution_count": null,
      "metadata": {
        "collapsed": false
      },
      "outputs": [],
      "source": [
        "print(__doc__)\nimport time\nimport numpy as np\nimport matplotlib.pyplot as plt\nimport pytransform3d.plot_utils as ppu\nfrom distance3d.distance import disk_to_disk\nfrom distance3d import plotting, random\n\n\nrandom_state = np.random.RandomState(0)\ncenter = np.zeros(3)\nradius = 1.0\nnormal = np.array([0.0, 0.0, 1.0])\n\nax = ppu.make_3d_axis(ax_s=1.5)\n\naccumulated_time = 0.0\nfor i in range(3000):\n    center2, radius2, normal2 = random.rand_circle(random_state)\n    start = time.time()\n    dist, closest_point1, closest_point2 = disk_to_disk(\n        center2, radius2, normal2, center, radius, normal)\n    end = time.time()\n    accumulated_time += end - start\n    print(dist)\n    if i > 10:\n        continue\n    plotting.plot_segment(ax, closest_point1, closest_point2)\n    plotting.plot_circle(ax, center2, radius2, normal2, show_normal=True)\nprint(f\"{accumulated_time=}\")\n\nplotting.plot_circle(ax, center, radius, normal, show_normal=True)\nplt.show()"
      ]
    }
  ],
  "metadata": {
    "kernelspec": {
      "display_name": "Python 3",
      "language": "python",
      "name": "python3"
    },
    "language_info": {
      "codemirror_mode": {
        "name": "ipython",
        "version": 3
      },
      "file_extension": ".py",
      "mimetype": "text/x-python",
      "name": "python",
      "nbconvert_exporter": "python",
      "pygments_lexer": "ipython3",
      "version": "3.8.8"
    }
  },
  "nbformat": 4,
  "nbformat_minor": 0
}