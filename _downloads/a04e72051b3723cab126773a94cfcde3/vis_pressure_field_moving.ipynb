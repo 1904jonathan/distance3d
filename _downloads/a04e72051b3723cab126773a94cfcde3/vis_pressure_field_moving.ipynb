{
  "cells": [
    {
      "cell_type": "code",
      "execution_count": null,
      "metadata": {
        "collapsed": false
      },
      "outputs": [],
      "source": [
        "%matplotlib inline"
      ]
    },
    {
      "cell_type": "markdown",
      "metadata": {},
      "source": [
        "\n# Visualize Pressure Fields of Moving Object\n"
      ]
    },
    {
      "cell_type": "code",
      "execution_count": null,
      "metadata": {
        "collapsed": false
      },
      "outputs": [],
      "source": [
        "print(__doc__)\n\nimport numpy as np\nimport pytransform3d.visualizer as pv\nfrom distance3d import visualization, hydroelastic_contact\n\n\nclass AnimationCallback:\n    def __init__(self,\n             n_frames, rigid_body1, rigid_body2, rigid_body3, rigid_body4,\n             position_offset):\n        self.n_frames = n_frames\n\n        self.rigid_body1 = rigid_body1\n        self.rigid_body2 = rigid_body2\n        self.rigid_body3 = rigid_body3\n        self.rigid_body4 = rigid_body4\n\n        self.position_offset = position_offset\n\n        self.rigid_body2.express_in(self.rigid_body1.body2origin_)\n        self.rigid_body3.express_in(self.rigid_body1.body2origin_)\n        self.rigid_body4.express_in(self.rigid_body1.body2origin_)\n\n        self.mesh1 = visualization.RigidBodyTetrahedralMesh(\n            self.rigid_body1.body2origin_, self.rigid_body1.vertices_,\n            self.rigid_body1.tetrahedra_)\n        self.mesh2 = visualization.RigidBodyTetrahedralMesh(\n            self.rigid_body2.body2origin_, self.rigid_body2.vertices_,\n            self.rigid_body2.tetrahedra_)\n        self.mesh3 = visualization.RigidBodyTetrahedralMesh(\n            self.rigid_body3.body2origin_, self.rigid_body3.vertices_,\n            self.rigid_body3.tetrahedra_)\n        self.mesh4 = visualization.RigidBodyTetrahedralMesh(\n            self.rigid_body4.body2origin_, self.rigid_body4.vertices_,\n            self.rigid_body4.tetrahedra_)\n\n        contact_surface21 = hydroelastic_contact.find_contact_surface(\n            self.rigid_body2, self.rigid_body1)\n        self.contact_surface21 = visualization.ContactSurface(\n            contact_surface21.frame2world,\n            contact_surface21.contact_polygons,\n            contact_surface21.contact_polygon_triangles,\n            contact_surface21.pressures)\n\n        contact_surface31 = hydroelastic_contact.find_contact_surface(\n            self.rigid_body3, self.rigid_body1)\n        self.contact_surface31 = visualization.ContactSurface(\n            contact_surface31.frame2world,\n            contact_surface31.contact_polygons,\n            contact_surface31.contact_polygon_triangles,\n            contact_surface31.pressures)\n\n        contact_surface41 = hydroelastic_contact.find_contact_surface(\n            self.rigid_body4, self.rigid_body1)\n        self.contact_surface41 = visualization.ContactSurface(\n            contact_surface41.frame2world,\n            contact_surface41.contact_polygons,\n            contact_surface41.contact_polygon_triangles,\n            contact_surface41.pressures)\n\n    def add_artists(self, fig):\n        self.mesh1.add_artist(fig)\n        self.mesh2.add_artist(fig)\n        self.mesh3.add_artist(fig)\n        self.mesh4.add_artist(fig)\n        self.contact_surface21.add_artist(fig)\n        self.contact_surface31.add_artist(fig)\n        self.contact_surface41.add_artist(fig)\n\n    def __call__(self, step):\n        # Transform back to original frame\n        rb12origin = np.eye(4)\n        t1 = np.sin(2 * np.pi * step / self.n_frames) / 2.0 + 1.0\n        rb12origin[:3, 3] = t1 * self.position_offset\n        self.rigid_body1.express_in(rb12origin)\n\n        # Move to new pose\n        t2 = np.sin(2 * np.pi * (step + 1) / self.n_frames) / 2.0 + 1.0\n        rb12origin[:3, 3] = t2 * self.position_offset\n        self.rigid_body1.body2origin_ = rb12origin\n\n        self.mesh1.set_data(\n            self.rigid_body1.body2origin_, self.rigid_body1.vertices_,\n            self.rigid_body1.tetrahedra_)\n\n        contact_surface21 = hydroelastic_contact.find_contact_surface(\n            self.rigid_body2, self.rigid_body1)\n        self.contact_surface21.set_data(\n            contact_surface21.frame2world,\n            contact_surface21.contact_polygons,\n            contact_surface21.contact_polygon_triangles,\n            contact_surface21.pressures)\n\n        contact_surface31 = hydroelastic_contact.find_contact_surface(\n            self.rigid_body3, self.rigid_body1)\n        self.contact_surface31.set_data(\n            contact_surface31.frame2world,\n            contact_surface31.contact_polygons,\n            contact_surface31.contact_polygon_triangles,\n            contact_surface31.pressures)\n\n        contact_surface41 = hydroelastic_contact.find_contact_surface(\n            self.rigid_body4, self.rigid_body1)\n        self.contact_surface41.set_data(\n            contact_surface41.frame2world,\n            contact_surface41.contact_polygons,\n            contact_surface41.contact_polygon_triangles,\n            contact_surface41.pressures)\n\n        return (\n            self.mesh1, self.contact_surface21, self.contact_surface31,\n            self.contact_surface41)\n\n\nbox2origin = np.eye(4)\nrigid_body1 = hydroelastic_contact.RigidBody.make_box(box2origin, np.array([0.2, 0.1, 0.1]))\n\ncapsule2origin = np.eye(4)\ncapsule2origin[:3, 3] = np.array([0.0, 0.13, 0.05])\nrigid_body2 = hydroelastic_contact.RigidBody.make_capsule(capsule2origin, 0.1, 0.1, 0.05)\n\ncylinder2origin = np.eye(4)\ncylinder2origin[:3, 3] = np.array([-0.3, 0.0, 0.0])\nrigid_body3 = hydroelastic_contact.RigidBody.make_cylinder(cylinder2origin, 0.1, 0.4, 0.05)\n\nellipsoid2origin = np.eye(4)\nellipsoid2origin[:3, 3] = np.array([0.3, 0.0, 0.0])\nrigid_body4 = hydroelastic_contact.RigidBody.make_ellipsoid(ellipsoid2origin, np.array([0.05, 0.1, 0.2]), 2)\n\nfig = pv.figure()\nfig.plot_transform(np.eye(4), s=0.1)\n\nn_frames = 100\nanimation_callback = AnimationCallback(\n    n_frames, rigid_body1, rigid_body2, rigid_body3, rigid_body4,\n    np.array([0.4, 0.0, 0.0]))\nanimation_callback.add_artists(fig)\nfig.view_init()\nif \"__file__\" in globals():\n    fig.animate(animation_callback, n_frames, loop=True, fargs=())\n    fig.show()\nelse:\n    fig.save_image(\"__open3d_rendered_image.jpg\")"
      ]
    }
  ],
  "metadata": {
    "kernelspec": {
      "display_name": "Python 3",
      "language": "python",
      "name": "python3"
    },
    "language_info": {
      "codemirror_mode": {
        "name": "ipython",
        "version": 3
      },
      "file_extension": ".py",
      "mimetype": "text/x-python",
      "name": "python",
      "nbconvert_exporter": "python",
      "pygments_lexer": "ipython3",
      "version": "3.9.13"
    }
  },
  "nbformat": 4,
  "nbformat_minor": 0
}