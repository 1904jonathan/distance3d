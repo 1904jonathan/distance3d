{
  "cells": [
    {
      "cell_type": "code",
      "execution_count": null,
      "metadata": {
        "collapsed": false
      },
      "outputs": [],
      "source": [
        "%matplotlib inline"
      ]
    },
    {
      "cell_type": "markdown",
      "metadata": {},
      "source": [
        "\n# Visualize Pressure Field of Two Moving Objects\n"
      ]
    },
    {
      "cell_type": "code",
      "execution_count": null,
      "metadata": {
        "collapsed": false
      },
      "outputs": [],
      "source": [
        "print(__doc__)\n\nimport numpy as np\nimport pytransform3d.visualizer as pv\nfrom distance3d import visualization, hydroelastic_contact\n\n\nclass AnimationCallback:\n    def __init__(self, n_frames, rigid_body1, rigid_body2, position_offset):\n        self.n_frames = n_frames\n        self.rigid_body1 = rigid_body1\n        self.rigid_body2 = rigid_body2\n        self.position_offset = position_offset\n        self.rigid_body1.express_in(self.rigid_body2.body2origin_)\n        self.mesh1 = visualization.RigidBodyTetrahedralMesh(\n            self.rigid_body1.body2origin_, self.rigid_body1.vertices_,\n            self.rigid_body1.tetrahedra_)\n        self.mesh2 = visualization.RigidBodyTetrahedralMesh(\n            self.rigid_body2.body2origin_, self.rigid_body2.vertices_,\n            self.rigid_body2.tetrahedra_)\n        contact_surface = hydroelastic_contact.find_contact_surface(\n            self.rigid_body1, self.rigid_body2)\n        self.contact_surface = visualization.ContactSurface(\n            contact_surface.frame2world,\n            contact_surface.contact_polygons,\n            contact_surface.contact_polygon_triangles,\n            contact_surface.pressures)\n\n    def add_artists(self, fig):\n        self.mesh1.add_artist(fig)\n        self.mesh2.add_artist(fig)\n        self.contact_surface.add_artist(fig)\n\n    def __call__(self, step):\n        # Transform back to original frame\n        cube12origin = np.eye(4)\n        t1 = np.sin(2 * np.pi * step / self.n_frames) / 2.0 + 1.0\n        cube12origin[:3, 3] = t1 * self.position_offset\n        self.rigid_body1.express_in(cube12origin)\n\n        # Move to new pose\n        t2 = np.sin(2 * np.pi * (step + 1) / self.n_frames) / 2.0 + 1.0\n        cube12origin[:3, 3] = t2 * self.position_offset\n        self.rigid_body1.body2origin_ = cube12origin\n\n        self.mesh1.set_data(self.rigid_body1.body2origin_, self.rigid_body1.vertices_, self.rigid_body1.tetrahedra_)\n\n        contact_surface = hydroelastic_contact.find_contact_surface(\n            self.rigid_body1, self.rigid_body2)\n        self.contact_surface.set_data(\n            contact_surface.frame2world,\n            contact_surface.contact_polygons,\n            contact_surface.contact_polygon_triangles,\n            contact_surface.pressures)\n        return self.mesh1, self.contact_surface\n\n\ncube12origin = np.eye(4)\nrigid_body1 = hydroelastic_contact.RigidBody.make_cube(cube12origin, 0.1)\ncube22origin = np.eye(4)\ncube22origin[:3, 3] = np.array([0.0, 0.03, 0.05])\nrigid_body2 = hydroelastic_contact.RigidBody.make_cube(cube22origin, 0.1)\n\nfig = pv.figure()\nfig.plot_transform(np.eye(4), s=0.1)\n\nn_frames = 500\nanimation_callback = AnimationCallback(\n    n_frames, rigid_body1, rigid_body2, np.array([0.1, 0.0, 0.05]))\nanimation_callback.add_artists(fig)\nfig.view_init()\nif \"__file__\" in globals():\n    fig.animate(animation_callback, n_frames, loop=True, fargs=())\n    fig.show()\nelse:\n    fig.save_image(\"__open3d_rendered_image.jpg\")"
      ]
    }
  ],
  "metadata": {
    "kernelspec": {
      "display_name": "Python 3",
      "language": "python",
      "name": "python3"
    },
    "language_info": {
      "codemirror_mode": {
        "name": "ipython",
        "version": 3
      },
      "file_extension": ".py",
      "mimetype": "text/x-python",
      "name": "python",
      "nbconvert_exporter": "python",
      "pygments_lexer": "ipython3",
      "version": "3.8.8"
    }
  },
  "nbformat": 4,
  "nbformat_minor": 0
}