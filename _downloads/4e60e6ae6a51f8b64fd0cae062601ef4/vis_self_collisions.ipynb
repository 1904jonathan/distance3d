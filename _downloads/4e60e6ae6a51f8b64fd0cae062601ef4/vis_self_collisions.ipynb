{
  "cells": [
    {
      "cell_type": "code",
      "execution_count": null,
      "metadata": {
        "collapsed": false
      },
      "outputs": [],
      "source": [
        "%matplotlib inline"
      ]
    },
    {
      "cell_type": "markdown",
      "metadata": {},
      "source": [
        "\n# Self-collisions of a robot\n"
      ]
    },
    {
      "cell_type": "code",
      "execution_count": null,
      "metadata": {
        "collapsed": false
      },
      "outputs": [],
      "source": [
        "print(__doc__)\n\nimport os\nimport time\nimport numpy as np\nfrom pytransform3d.urdf import UrdfTransformManager\nimport pytransform3d.visualizer as pv\nfrom distance3d import self_collision, broad_phase\n\n\nclass AnimationCallback:\n    def __init__(self, n_frames=100, detect_any=False):\n        self.n_frames = n_frames\n        self.total_time = 0.0\n        self.detect_any = detect_any\n\n    def __call__(self, step, tm, bvh, joint_names):\n        if step == 0:\n            self.total_time = 0.0\n\n        angle = 2.7 * np.cos(2.0 * np.pi * (step / self.n_frames))\n        for joint_name in joint_names:\n            tm.set_joint(joint_name, angle)\n        bvh.update_collider_poses()\n\n        if self.detect_any:\n            start = time.time()\n            contacts = self_collision.detect_any(bvh)\n            stop = time.time()\n            self.total_time += stop - start\n\n            for frame, collider in bvh.colliders_.items():\n                geometry = collider.artist_.geometries[0]\n                if contacts:\n                    geometry.paint_uniform_color((1, 0, 0))\n                else:\n                    geometry.paint_uniform_color((0, 1, 0))\n        else:\n            start = time.time()\n            contacts = self_collision.detect(bvh)\n            stop = time.time()\n            self.total_time += stop - start\n\n            for frame, collider in bvh.colliders_.items():\n                geometry = collider.artist_.geometries[0]\n                if contacts[frame]:\n                    geometry.paint_uniform_color((1, 0, 0))\n                else:\n                    geometry.paint_uniform_color((0, 1, 0))\n\n        if step == self.n_frames - 1:\n            print(f\"Total time: {self.total_time}\")\n\n        return bvh.get_artists()\n\n\nBASE_DIR = \"test/data/\"\ndata_dir = BASE_DIR\nsearch_path = \"..\"\nwhile (not os.path.exists(data_dir) and\n       os.path.dirname(search_path) != \"distance3d\"):\n    search_path = os.path.join(search_path, \"..\")\n    data_dir = os.path.join(search_path, BASE_DIR)\n\ntm = UrdfTransformManager()\nfilename = os.path.join(data_dir, \"simple_mechanism.urdf\")\nwith open(filename, \"r\") as f:\n    robot_urdf = f.read()\n    tm.load_urdf(robot_urdf, mesh_path=data_dir)\n\nbvh = broad_phase.BoundingVolumeHierarchy(tm, \"simple_mechanism\")\nbvh.fill_tree_with_colliders(\n    tm, make_artists=True, fill_self_collision_whitelists=True)\n\nfig = pv.figure()\nfig.plot_transform(np.eye(4), s=0.2)\nfor artist in bvh.get_artists():\n    artist.add_artist(fig)\nfig.view_init()\n\nn_frames = 500\nanimation_callback = AnimationCallback(n_frames=n_frames, detect_any=False)\nif \"__file__\" in globals():\n    fig.animate(animation_callback, n_frames, loop=True,\n                fargs=(tm, bvh, [\"joint1\", \"joint2\", \"joint3\"]))\n    fig.show()\nelse:\n    fig.save_image(\"__open3d_rendered_image.jpg\")"
      ]
    }
  ],
  "metadata": {
    "kernelspec": {
      "display_name": "Python 3",
      "language": "python",
      "name": "python3"
    },
    "language_info": {
      "codemirror_mode": {
        "name": "ipython",
        "version": 3
      },
      "file_extension": ".py",
      "mimetype": "text/x-python",
      "name": "python",
      "nbconvert_exporter": "python",
      "pygments_lexer": "ipython3",
      "version": "3.9.13"
    }
  },
  "nbformat": 4,
  "nbformat_minor": 0
}