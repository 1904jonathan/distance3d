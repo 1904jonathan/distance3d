{
  "cells": [
    {
      "cell_type": "code",
      "execution_count": null,
      "metadata": {
        "collapsed": false
      },
      "outputs": [],
      "source": [
        "%matplotlib inline"
      ]
    },
    {
      "cell_type": "markdown",
      "metadata": {},
      "source": [
        "\n# Self-collisions of a robot\n"
      ]
    },
    {
      "cell_type": "code",
      "execution_count": null,
      "metadata": {
        "collapsed": false
      },
      "outputs": [],
      "source": [
        "print(__doc__)\nimport os\nimport numpy as np\nfrom pytransform3d.urdf import UrdfTransformManager\nimport pytransform3d.visualizer as pv\nfrom distance3d import colliders, self_collision\n\n\nBASE_DIR = \"test/data/\"\ndata_dir = BASE_DIR\nsearch_path = \"..\"\nwhile (not os.path.exists(data_dir) and\n       os.path.dirname(search_path) != \"distance3d\"):\n    search_path = os.path.join(search_path, \"..\")\n    data_dir = os.path.join(search_path, BASE_DIR)\n\ntm = UrdfTransformManager()\nfilename = os.path.join(data_dir, \"robot.urdf\")\nwith open(filename, \"r\") as f:\n    robot_urdf = f.read()\n    tm.load_urdf(robot_urdf, mesh_path=data_dir)\ntm.set_joint(\"joint2\", 1.57)\ntm.set_joint(\"joint3\", 1.57)\ntm.set_joint(\"joint5\", 2.05)\n\nbvh = colliders.BoundingVolumeHierarchy(tm, \"robot_arm\")\nbvh.fill_tree_with_colliders(tm, make_artists=True, fill_self_collision_whitelists=True)\n\ncontacts = self_collision.detect(bvh)\n\nfig = pv.figure()\nfig.plot_transform(np.eye(4), s=0.2)\n\nfor frame, collider in bvh.colliders_.items():\n    if contacts[frame]:\n        collider.artist_.geometries[0].paint_uniform_color((1, 0, 0))\n    collider.artist_.add_artist(fig)\n    fig.plot_transform(collider.artist_.A2B, s=0.1)\nfig.view_init()\nfig.set_zoom(1.5)\nif \"__file__\" in globals():\n    fig.show()\nelse:\n    fig.save_image(\"__open3d_rendered_image.jpg\")"
      ]
    }
  ],
  "metadata": {
    "kernelspec": {
      "display_name": "Python 3",
      "language": "python",
      "name": "python3"
    },
    "language_info": {
      "codemirror_mode": {
        "name": "ipython",
        "version": 3
      },
      "file_extension": ".py",
      "mimetype": "text/x-python",
      "name": "python",
      "nbconvert_exporter": "python",
      "pygments_lexer": "ipython3",
      "version": "3.8.8"
    }
  },
  "nbformat": 4,
  "nbformat_minor": 0
}