{
  "cells": [
    {
      "cell_type": "code",
      "execution_count": null,
      "metadata": {
        "collapsed": false
      },
      "outputs": [],
      "source": [
        "%matplotlib inline"
      ]
    },
    {
      "cell_type": "markdown",
      "metadata": {},
      "source": [
        "\n# Distance from line segment to rectangle\n"
      ]
    },
    {
      "cell_type": "code",
      "execution_count": null,
      "metadata": {
        "collapsed": false
      },
      "outputs": [],
      "source": [
        "print(__doc__)\nimport time\nimport numpy as np\nimport matplotlib.pyplot as plt\nimport pytransform3d.plot_utils as ppu\nfrom distance3d.distance import line_segment_to_rectangle\nfrom distance3d import random, plotting\n\n\nrandom_state = np.random.RandomState(6)\nrectangle_center, rectangle_axes, rectangle_lengths = random.randn_rectangle(\n    random_state, center_scale=0.3, length_scale=2.0)\n\nax = ppu.make_3d_axis(ax_s=2)\n\naccumulated_time = 0.0\nfor i in range(5500):\n    segment_start, segment_end = random.randn_line_segment(random_state)\n    start = time.time()\n    dist, closest_point_segment, closest_point_rectangle = line_segment_to_rectangle(\n        segment_start, segment_end, rectangle_center, rectangle_axes, rectangle_lengths)\n    end = time.time()\n    accumulated_time += end - start\n    print(dist)\n    if i > 10:\n        continue\n    plotting.plot_segment(\n        ax, closest_point_segment, closest_point_rectangle, c=\"k\", lw=1)\n    plotting.plot_segment(ax, segment_start, segment_end)\nprint(f\"{accumulated_time=}\")\n\nplotting.plot_rectangle(ax, rectangle_center, rectangle_axes, rectangle_lengths)\nplt.show()"
      ]
    }
  ],
  "metadata": {
    "kernelspec": {
      "display_name": "Python 3",
      "language": "python",
      "name": "python3"
    },
    "language_info": {
      "codemirror_mode": {
        "name": "ipython",
        "version": 3
      },
      "file_extension": ".py",
      "mimetype": "text/x-python",
      "name": "python",
      "nbconvert_exporter": "python",
      "pygments_lexer": "ipython3",
      "version": "3.9.13"
    }
  },
  "nbformat": 4,
  "nbformat_minor": 0
}