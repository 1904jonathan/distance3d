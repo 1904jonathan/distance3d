{
  "cells": [
    {
      "cell_type": "code",
      "execution_count": null,
      "metadata": {
        "collapsed": false
      },
      "outputs": [],
      "source": [
        "%matplotlib inline"
      ]
    },
    {
      "cell_type": "markdown",
      "metadata": {},
      "source": [
        "\n# Distance between two rectangles\n"
      ]
    },
    {
      "cell_type": "code",
      "execution_count": null,
      "metadata": {
        "collapsed": false
      },
      "outputs": [],
      "source": [
        "print(__doc__)\nimport time\nimport numpy as np\nimport matplotlib.pyplot as plt\nimport pytransform3d.plot_utils as ppu\nfrom distance3d.distance import rectangle_to_rectangle\nfrom distance3d import random, plotting\n\n\nrandom_state = np.random.RandomState(0)\nrectangle_center, rectangle_axes, rectangle_lengths = random.randn_rectangle(\n    random_state, center_scale=1.0, length_scale=5.0)\n\nax = ppu.make_3d_axis(ax_s=3)\n\naccumulated_time = 0.0\nfor i in range(500):\n    rectangle_center2, rectangle_axes2, rectangle_lengths2 = random.randn_rectangle(\n        random_state, center_scale=1.0, length_scale=5.0)\n    start = time.time()\n    dist, contact_point_rectangle, contact_point_rectangle2 = rectangle_to_rectangle(\n        rectangle_center, rectangle_axes, rectangle_lengths,\n        rectangle_center2, rectangle_axes2, rectangle_lengths2)\n    end = time.time()\n    accumulated_time += end - start\n    print(dist)\n    if i > 7:\n        continue\n    plotting.plot_segment(\n        ax, contact_point_rectangle, contact_point_rectangle2, c=\"k\", lw=1)\n    plotting.plot_rectangle(ax, rectangle_center2, rectangle_axes2, rectangle_lengths2, show_axes=False)\nprint(f\"{accumulated_time=}\")\n\nplotting.plot_rectangle(ax, rectangle_center, rectangle_axes, rectangle_lengths)\nplt.show()"
      ]
    }
  ],
  "metadata": {
    "kernelspec": {
      "display_name": "Python 3",
      "language": "python",
      "name": "python3"
    },
    "language_info": {
      "codemirror_mode": {
        "name": "ipython",
        "version": 3
      },
      "file_extension": ".py",
      "mimetype": "text/x-python",
      "name": "python",
      "nbconvert_exporter": "python",
      "pygments_lexer": "ipython3",
      "version": "3.8.8"
    }
  },
  "nbformat": 4,
  "nbformat_minor": 0
}