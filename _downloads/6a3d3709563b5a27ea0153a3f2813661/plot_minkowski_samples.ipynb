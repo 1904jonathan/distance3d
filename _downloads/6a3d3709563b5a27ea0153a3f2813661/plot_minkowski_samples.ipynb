{
  "cells": [
    {
      "cell_type": "code",
      "execution_count": null,
      "metadata": {
        "collapsed": false
      },
      "outputs": [],
      "source": [
        "%matplotlib inline"
      ]
    },
    {
      "cell_type": "markdown",
      "metadata": {},
      "source": [
        "\n# Plot Samples from Minkowski Difference\n"
      ]
    },
    {
      "cell_type": "code",
      "execution_count": null,
      "metadata": {
        "collapsed": false
      },
      "outputs": [],
      "source": [
        "print(__doc__)\nimport numpy as np\nimport matplotlib.pyplot as plt\nimport pytransform3d.plot_utils as ppu\nimport pytransform3d.transformations as pt\nfrom distance3d import colliders, minkowski, random, gjk, plotting\n\n\nn_direction_samples = 50\nrandom_state = np.random.RandomState(42)\ncapsule12origin, radius1, height1 = random.rand_capsule(random_state)\ncapsule22origin, radius2, height2 = random.rand_capsule(random_state)\ncapsule1 = colliders.Capsule(capsule12origin, radius1, height1)\ncapsule2 = colliders.Capsule(capsule22origin, radius2, height2)\n\nvertices1 = np.empty((n_direction_samples, 3))\nvertices2 = np.empty((n_direction_samples, 3))\nfor i in range(n_direction_samples):\n    direction = random.randn_direction(random_state)\n    vertices1[i] = capsule1.support_function(direction)\n    vertices2[i] = capsule2.support_function(direction)\nminkowski_difference = minkowski.minkowski_sum(vertices1, -vertices2)\n\n_, cp1, cp2, simplex = gjk.gjk_distance(capsule1, capsule2)\n\nax = ppu.make_3d_axis(\n    np.max(np.abs(np.linalg.norm(minkowski_difference, axis=1))), pos=121)\npt.plot_transform(ax, np.eye(4), s=3)\nax.scatter(minkowski_difference[:, 0], minkowski_difference[:, 1],\n           minkowski_difference[:, 2], c=\"k\", alpha=0.2, s=1)\nplotting.plot_tetrahedron(ax, simplex)\n\nax = ppu.make_3d_axis(2.0, pos=122)\nppu.plot_capsule(ax, A2B=capsule12origin, height=height1, radius=radius1,\n                 wireframe=False, color=\"r\", alpha=0.1)\nppu.plot_capsule(ax, A2B=capsule22origin, height=height2, radius=radius2,\n                 wireframe=False, color=\"b\", alpha=0.1)\nax.scatter(cp1[0], cp1[1], cp1[2], c=\"k\", s=5)\nax.scatter(cp2[0], cp2[1], cp2[2], c=\"k\", s=5)\n\nplt.show()"
      ]
    }
  ],
  "metadata": {
    "kernelspec": {
      "display_name": "Python 3",
      "language": "python",
      "name": "python3"
    },
    "language_info": {
      "codemirror_mode": {
        "name": "ipython",
        "version": 3
      },
      "file_extension": ".py",
      "mimetype": "text/x-python",
      "name": "python",
      "nbconvert_exporter": "python",
      "pygments_lexer": "ipython3",
      "version": "3.9.13"
    }
  },
  "nbformat": 4,
  "nbformat_minor": 0
}