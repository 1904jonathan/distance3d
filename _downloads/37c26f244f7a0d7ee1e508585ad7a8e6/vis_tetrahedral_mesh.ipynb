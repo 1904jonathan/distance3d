{
  "cells": [
    {
      "cell_type": "code",
      "execution_count": null,
      "metadata": {
        "collapsed": false
      },
      "outputs": [],
      "source": [
        "%matplotlib inline"
      ]
    },
    {
      "cell_type": "markdown",
      "metadata": {},
      "source": [
        "\n# Visualize Tetrahedral Mesh\n"
      ]
    },
    {
      "cell_type": "code",
      "execution_count": null,
      "metadata": {
        "collapsed": false
      },
      "outputs": [],
      "source": [
        "print(__doc__)\n\nimport os\nimport numpy as np\nimport pytransform3d.visualizer as pv\nfrom distance3d import io, visualization\n\nBASE_DIR = \"test/data/\"\ndata_dir = BASE_DIR\nsearch_path = \"..\"\nwhile (not os.path.exists(data_dir) and\n       os.path.dirname(search_path) != \"distance3d\"):\n    search_path = os.path.join(search_path, \"..\")\n    data_dir = os.path.join(search_path, BASE_DIR)\nfilename = os.path.join(data_dir, \"insole.vtk\")\nvertices, tetrahedra = io.load_tetrahedral_mesh(filename)\n\nfig = pv.figure()\nfig.plot_transform(np.eye(4), s=0.1)\nmesh = visualization.TetraMesh(np.eye(4), vertices, tetrahedra, c=(1, 0, 0))\nmesh.add_artist(fig)\nfig.view_init()\nif \"__file__\" in globals():\n    fig.show()\nelse:\n    fig.save_image(\"__open3d_rendered_image.jpg\")"
      ]
    }
  ],
  "metadata": {
    "kernelspec": {
      "display_name": "Python 3",
      "language": "python",
      "name": "python3"
    },
    "language_info": {
      "codemirror_mode": {
        "name": "ipython",
        "version": 3
      },
      "file_extension": ".py",
      "mimetype": "text/x-python",
      "name": "python",
      "nbconvert_exporter": "python",
      "pygments_lexer": "ipython3",
      "version": "3.9.13"
    }
  },
  "nbformat": 4,
  "nbformat_minor": 0
}