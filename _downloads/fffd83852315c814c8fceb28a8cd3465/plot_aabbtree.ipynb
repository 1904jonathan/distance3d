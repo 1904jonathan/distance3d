{
  "cells": [
    {
      "cell_type": "code",
      "execution_count": null,
      "metadata": {
        "collapsed": false
      },
      "outputs": [],
      "source": [
        "%matplotlib inline"
      ]
    },
    {
      "cell_type": "markdown",
      "metadata": {},
      "source": [
        "\n# AABB Tree\n\nPlot AABB tree.\n"
      ]
    },
    {
      "cell_type": "code",
      "execution_count": null,
      "metadata": {
        "collapsed": false
      },
      "outputs": [],
      "source": [
        "from distance3d.aabb_tree import AabbTree\n\nprint(__doc__)\nimport numpy as np\nimport pytransform3d.plot_utils as ppu\nimport matplotlib.pyplot as plt\nfrom distance3d import containment, random, plotting\n\nax = ppu.make_3d_axis(3)\nrandom_state = np.random.RandomState(0)\n\ncenter, radius = random.rand_sphere(random_state)\nmins, maxs = containment.sphere_aabb(center, radius)\nppu.plot_sphere(ax, radius, center, wireframe=False, alpha=0.5)\nplotting.plot_aabb(ax, mins, maxs)\naabb1 = np.array([mins, maxs]).T\n\nbox2origin, size = random.rand_box(random_state)\nmins, maxs = containment.box_aabb(box2origin, size)\nppu.plot_box(ax=ax, A2B=box2origin, size=size, wireframe=False, alpha=0.5)\nplotting.plot_aabb(ax, mins, maxs)\naabb2 = np.array([mins, maxs]).T\n\ncylinder2origin, radius, length = random.rand_cylinder(random_state)\nmins, maxs = containment.cylinder_aabb(cylinder2origin, radius, length)\nppu.plot_cylinder(ax=ax, A2B=cylinder2origin, radius=radius, length=length, wireframe=False, alpha=0.5)\nplotting.plot_aabb(ax, mins, maxs)\naabb3 = np.array([mins, maxs]).T\n\ncapsule2origin, radius, height = random.rand_capsule(random_state)\nmins, maxs = containment.capsule_aabb(capsule2origin, radius, height)\nppu.plot_capsule(ax, capsule2origin, height, radius, wireframe=False, alpha=0.5)\nplotting.plot_aabb(ax, mins, maxs)\naabb4 = np.array([mins, maxs]).T\n\nellipsoid2origin, radii = random.rand_ellipsoid(random_state)\nmins, maxs = containment.ellipsoid_aabb(ellipsoid2origin, radii)\nppu.plot_ellipsoid(ax, radii, ellipsoid2origin, wireframe=False, alpha=0.5)\nplotting.plot_aabb(ax, mins, maxs)\naabb5 = np.array([mins, maxs]).T\n\ncone2origin, radius, height = random.rand_cone(random_state)\nmins, maxs = containment.cone_aabb(cone2origin, radius, height)\nppu.plot_cone(ax, height, radius, cone2origin, wireframe=False, alpha=0.5)\nplotting.plot_aabb(ax, mins, maxs)\naabb6 = np.array([mins, maxs]).T\n\ncenter, radius, normal = random.rand_circle(random_state)\nmins, maxs = containment.disk_aabb(center, radius, normal)\nplotting.plot_circle(ax, center, radius, normal, surface_alpha=0.5, color=\"k\")\nplotting.plot_aabb(ax, mins, maxs)\naabb7 = np.array([mins, maxs]).T\n\ncenter, axes, radii = random.rand_ellipse(random_state, center_scale=10.0, radii_scale=0.3)\nmins, maxs = containment.ellipse_aabb(center, axes, radii)\nplotting.plot_ellipse(ax, center, axes, radii, surface_alpha=0.5, color=\"k\")\nplotting.plot_aabb(ax, mins, maxs)\naabb8 = np.array([mins, maxs]).T\n\ntree = AabbTree()\ntree.insert_aabb(aabb1, \"sphere\")\ntree.insert_aabb(aabb2, \"box\")\ntree.insert_aabb(aabb3, \"cylinder\")\ntree.insert_aabb(aabb4, \"capsule\")\ntree.insert_aabb(aabb5, \"ellipsoid\")\ntree.insert_aabb(aabb6, \"cone\")\ntree.insert_aabb(aabb7, \"disk\")\ntree.insert_aabb(aabb8, \"ellipse\")\nplotting.plot_aabb_tree(ax, tree)\nplt.show()"
      ]
    }
  ],
  "metadata": {
    "kernelspec": {
      "display_name": "Python 3",
      "language": "python",
      "name": "python3"
    },
    "language_info": {
      "codemirror_mode": {
        "name": "ipython",
        "version": 3
      },
      "file_extension": ".py",
      "mimetype": "text/x-python",
      "name": "python",
      "nbconvert_exporter": "python",
      "pygments_lexer": "ipython3",
      "version": "3.9.13"
    }
  },
  "nbformat": 4,
  "nbformat_minor": 0
}