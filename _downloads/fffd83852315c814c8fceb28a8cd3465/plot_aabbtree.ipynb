{
  "cells": [
    {
      "cell_type": "code",
      "execution_count": null,
      "metadata": {
        "collapsed": false
      },
      "outputs": [],
      "source": [
        "%matplotlib inline"
      ]
    },
    {
      "cell_type": "markdown",
      "metadata": {},
      "source": [
        "\n# AABB Tree\n\nPlot AABB Tree.\n"
      ]
    },
    {
      "cell_type": "code",
      "execution_count": null,
      "metadata": {
        "collapsed": false
      },
      "outputs": [],
      "source": [
        "print(__doc__)\nfrom collections import deque\nimport numpy as np\nimport pytransform3d.plot_utils as ppu\nimport matplotlib.pyplot as plt\nfrom distance3d import containment, random, plotting\nimport aabbtree\n\n\nax = ppu.make_3d_axis(3)\nrandom_state = np.random.RandomState(0)\n\ncenter, radius = random.rand_sphere(random_state)\nmins, maxs = containment.sphere_aabb(center, radius)\nppu.plot_sphere(ax, radius, center, wireframe=False, alpha=0.5)\nplotting.plot_aabb(ax, mins, maxs)\naabb1 = aabbtree.AABB(np.array([mins, maxs]).T)\n\nbox2origin, size = random.rand_box(random_state)\nmins, maxs = containment.box_aabb(box2origin, size)\nppu.plot_box(ax=ax, A2B=box2origin, size=size, wireframe=False, alpha=0.5)\nplotting.plot_aabb(ax, mins, maxs)\naabb2 = aabbtree.AABB(np.array([mins, maxs]).T)\n\ncylinder2origin, radius, length = random.rand_cylinder(random_state)\nmins, maxs = containment.cylinder_aabb(cylinder2origin, radius, length)\nppu.plot_cylinder(ax=ax, A2B=cylinder2origin, radius=radius, length=length, wireframe=False, alpha=0.5)\nplotting.plot_aabb(ax, mins, maxs)\naabb3 = aabbtree.AABB(np.array([mins, maxs]).T)\n\ncapsule2origin, radius, height = random.rand_capsule(random_state)\nmins, maxs = containment.capsule_aabb(capsule2origin, radius, height)\nppu.plot_capsule(ax, capsule2origin, height, radius, wireframe=False, alpha=0.5)\nplotting.plot_aabb(ax, mins, maxs)\naabb4 = aabbtree.AABB(np.array([mins, maxs]).T)\n\ntree = aabbtree.AABBTree()\ntree.add(aabb1, \"sphere\")\ntree.add(aabb2, \"box\")\ntree.add(aabb3, \"cylinder\")\ntree.add(aabb4, \"capsule\")\nmins, maxs = np.array(tree.aabb.limits).T\nnodes = deque()\nnodes.append(tree)\nwhile nodes:\n    node = nodes.popleft()\n    mins, maxs = np.array(node.aabb.limits).T\n    plotting.plot_aabb(ax, mins, maxs, alpha=0.4)\n    if not node.is_leaf:\n        nodes.extend([node.left, node.right])\nplt.show()"
      ]
    }
  ],
  "metadata": {
    "kernelspec": {
      "display_name": "Python 3",
      "language": "python",
      "name": "python3"
    },
    "language_info": {
      "codemirror_mode": {
        "name": "ipython",
        "version": 3
      },
      "file_extension": ".py",
      "mimetype": "text/x-python",
      "name": "python",
      "nbconvert_exporter": "python",
      "pygments_lexer": "ipython3",
      "version": "3.8.8"
    }
  },
  "nbformat": 4,
  "nbformat_minor": 0
}