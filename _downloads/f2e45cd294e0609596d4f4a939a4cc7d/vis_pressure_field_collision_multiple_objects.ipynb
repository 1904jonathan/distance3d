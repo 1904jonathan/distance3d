{
  "cells": [
    {
      "cell_type": "code",
      "execution_count": null,
      "metadata": {
        "collapsed": false
      },
      "outputs": [],
      "source": [
        "%matplotlib inline"
      ]
    },
    {
      "cell_type": "markdown",
      "metadata": {},
      "source": [
        "\n# Physical Simulation of Soft Balls Bouncing in a Wooden Box\n"
      ]
    },
    {
      "cell_type": "code",
      "execution_count": null,
      "metadata": {
        "collapsed": false
      },
      "outputs": [],
      "source": [
        "print(__doc__)\n\nimport numpy as np\nimport pytransform3d.visualizer as pv\nfrom distance3d import visualization, hydroelastic_contact\nimport matplotlib.pyplot as plt\nimport time\n\ndt = 0.001\ng = np.array([0, -9.81, 0])\n\nfig = pv.figure()\nfig.plot_transform(np.eye(4), s=0.1)\n\np_objects = []\n\nplot = plt.figure()\nax = plot.add_subplot(1, 1, 1)\nxs = []\nvels = []\naccs = []\n# Format plot\nplt.title('Velocity over Time')\nplt.ylabel('Velocity')\n\n\nclass PhysicsObject:\n    def __init__(self, rigid_body, artist, mass, velocity, fixed=False):\n        self.rigid_body = rigid_body\n        self.fixed = fixed\n\n        self.mass = mass\n\n        self.acceleration = np.zeros(3, dtype=float)\n        self.velocity = velocity\n        self.artist_ = artist\n        self.forces = []\n\n    def step(self):\n        if self.fixed:\n            self.forces = []\n            return\n\n        gravity_force = g * self.mass\n        self.forces.append(gravity_force)\n\n        self.acceleration = np.add.reduce(self.forces) / self.mass\n        self.velocity += dt * self.acceleration\n        self.rigid_body.body2origin_[:3, 3] += self.velocity * dt\n        self.artist_.set_data(self.rigid_body.body2origin_, self.rigid_body.vertices_,\n                              self.rigid_body.tetrahedra_)\n\n        self.forces = []\n\n\nclass AnimationCallback:\n    def __init__(self, p_objects):\n        self.p_objects = p_objects\n        self.artists_ = []\n        for p_object in p_objects:\n            self.artists_.append(p_object.artist_)\n\n    def __call__(self, step):\n        global xs, ys\n        for i in range(len(self.p_objects)):\n            for j in range(i + 1, len(self.p_objects)):\n                intersection, wrench12, wrench21, details = hydroelastic_contact.contact_forces(\n                    self.p_objects[i].rigid_body, self.p_objects[j].rigid_body, return_details=True)\n\n                if intersection:\n                    self.p_objects[i].forces.append(wrench21[:3])\n                    self.p_objects[j].forces.append(wrench12[:3])\n\n            self.p_objects[i].step()\n\n            sum_vel = 0\n            sum_acc = 0\n            for p_object in self.p_objects:\n                o_vel = np.sqrt(p_object.velocity[0] * p_object.velocity[0]\n                                + p_object.velocity[1] * p_object.velocity[1]\n                                + p_object.velocity[2] * p_object.velocity[2])\n                o_acc = np.sqrt(p_object.acceleration[0] * p_object.acceleration[0]\n                                + p_object.acceleration[1] * p_object.acceleration[1]\n                                + p_object.acceleration[2] * p_object.acceleration[2])\n                sum_vel += o_vel\n                sum_acc += o_acc\n\n            xs.append(time.time())\n            vels.append(sum_vel)\n            accs.append(sum_acc / 100)\n\n        return self.artists_\n\n\ndef make_object(rigid_body, mass, acc, fixed):\n    artist = visualization.RigidBodyTetrahedralMesh(\n        rigid_body.body2origin_, rigid_body.vertices_, rigid_body.tetrahedra_)\n    artist.add_artist(fig)\n\n    return PhysicsObject(rigid_body, artist, mass, acc, fixed)\n\n\ncube2origin = np.eye(4)\nrb_box1 = hydroelastic_contact.RigidBody.make_box(cube2origin, np.array([1.5, 0.5, 1.5]))\n\ncube2origin2 = np.eye(4)\ncube2origin2[:3, 3] = np.array([0.7, 1.0, 0.0])\nrb_box2 = hydroelastic_contact.RigidBody.make_box(cube2origin2, np.array([0.2, 2.0, 1.5]))\n\ncube2origin3 = np.eye(4)\ncube2origin3[:3, 3] = np.array([-0.7, 1.0, 0.0])\nrb_box3 = hydroelastic_contact.RigidBody.make_box(cube2origin3, np.array([0.2, 2.0, 1.5]))\n\ncube2origin4 = np.eye(4)\ncube2origin4[:3, 3] = np.array([0.0, 1.0, 0.7])\nrb_box4 = hydroelastic_contact.RigidBody.make_box(cube2origin4, np.array([1.5, 2.0, 0.2]))\n\ncube2origin5 = np.eye(4)\ncube2origin5[:3, 3] = np.array([0.0, 1.0, -0.7])\nrb_box5 = hydroelastic_contact.RigidBody.make_box(cube2origin5, np.array([1.5, 2.0, 0.2]))\n\nrb1 = hydroelastic_contact.RigidBody.make_sphere(np.array([0.4, 0.5, 0.2]), 0.15, 1)\nrb2 = hydroelastic_contact.RigidBody.make_sphere(np.array([-0.2, 1.8, -0.4]), 0.15, 1)\nrb3 = hydroelastic_contact.RigidBody.make_sphere(np.array([0.2, 1.0, 0]), 0.15, 1)\nrb4 = hydroelastic_contact.RigidBody.make_sphere(np.array([-0.4, 1.5, -0.4]), 0.15, 1)\n\n\nGPa = 100000000\nrb_box1.youngs_modulus = 100 * GPa\nrb_box2.youngs_modulus = 100 * GPa\nrb_box3.youngs_modulus = 100 * GPa\nrb_box4.youngs_modulus = 100 * GPa\nrb_box5.youngs_modulus = 100 * GPa\n\nrb1.youngs_modulus = 0.1 * GPa\nrb2.youngs_modulus = 0.1 * GPa\nrb3.youngs_modulus = 0.1 * GPa\nrb4.youngs_modulus = 0.1 * GPa\n\np_object_box1 = make_object(rb_box1, 100, np.array([0.0, 0.0, 0.0]), True)\np_object_box2 = make_object(rb_box2, 100, np.array([0.0, 0.0, 0.0]), True)\np_object_box3 = make_object(rb_box3, 100, np.array([0.0, 0.0, 0.0]), True)\np_object_box4 = make_object(rb_box4, 100, np.array([0.0, 0.0, 0.0]), True)\np_object_box5 = make_object(rb_box5, 100, np.array([0.0, 0.0, 0.0]), True)\n\np_object1 = make_object(rb1, 1, np.array([-0.1, 0.0, 0.0]), False)\np_object2 = make_object(rb2, 1, np.array([0.0, 0.0, 1.5]), False)\np_object3 = make_object(rb3, 1, np.array([2.0, 0.0, 0.0]), False)\np_object4 = make_object(rb4, 1, np.array([0.0, 0.0, -0.5]), False)\n\nfig.view_init()\n\nif \"__file__\" in globals():\n    fig.animate(AnimationCallback([p_object_box1, p_object_box2, p_object_box3, p_object_box4, p_object_box5,\n                                   p_object1, p_object2, p_object3, p_object4]), 500, loop=True)\n    fig.show()\nelse:\n    fig.save_image(\"__open3d_rendered_image.jpg\")\n\n\nax.plot(xs, vels)\nax.plot(xs, accs)\nplot.show()"
      ]
    }
  ],
  "metadata": {
    "kernelspec": {
      "display_name": "Python 3",
      "language": "python",
      "name": "python3"
    },
    "language_info": {
      "codemirror_mode": {
        "name": "ipython",
        "version": 3
      },
      "file_extension": ".py",
      "mimetype": "text/x-python",
      "name": "python",
      "nbconvert_exporter": "python",
      "pygments_lexer": "ipython3",
      "version": "3.9.13"
    }
  },
  "nbformat": 4,
  "nbformat_minor": 0
}