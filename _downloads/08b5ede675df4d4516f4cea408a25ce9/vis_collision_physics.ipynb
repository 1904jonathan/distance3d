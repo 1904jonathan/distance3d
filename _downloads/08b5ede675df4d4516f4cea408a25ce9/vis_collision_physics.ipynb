{
  "cells": [
    {
      "cell_type": "code",
      "execution_count": null,
      "metadata": {
        "collapsed": false
      },
      "outputs": [],
      "source": [
        "%matplotlib inline"
      ]
    },
    {
      "cell_type": "markdown",
      "metadata": {},
      "source": [
        "\n# Physical simulation with collision detection\n"
      ]
    },
    {
      "cell_type": "code",
      "execution_count": null,
      "metadata": {
        "collapsed": false
      },
      "outputs": [],
      "source": [
        "print(__doc__)\nimport numpy as np\nimport open3d as o3d\nimport pytransform3d.transformations as pt\nimport pytransform3d.visualizer as pv\nfrom distance3d import random, gjk, epa\n\n\nclass Mesh(pv.Artist):\n    def __init__(self, mesh, A2B=np.eye(4)):\n        self.mesh = mesh\n        self.mesh.compute_vertex_normals()\n        self.A2B = None\n        self.set_data(A2B)\n\n    def set_data(self, A2B):\n        previous_A2B = self.A2B\n        if previous_A2B is None:\n            previous_A2B = np.eye(4)\n        self.A2B = A2B\n\n        self.mesh.transform(pt.invert_transform(previous_A2B, check=False))\n        self.mesh.transform(self.A2B)\n\n    @property\n    def geometries(self):\n        return [self.mesh]\n\n\ndt = 0.001\ng = np.array([0, 0, -9.81])\n\n\nclass AnimationCallback:\n    def __init__(self, mesh22origin):\n        self.dt = 0.01\n        self.m2 = 1.0\n        self.mesh22origin = mesh22origin\n        self._initial_state()\n\n    def _initial_state(self):\n        self.pose2 = np.copy(mesh22origin)\n        self.v2 = np.zeros(3)\n\n    def __call__(self, step, artist1, artist2):\n        if step == 0:\n            self._initial_state()\n\n        F_gravity = self.m2 * g\n\n        self.a2 = F_gravity / self.m2\n        self.v2 += self.dt * self.a2\n        self.pose2[:3, 3] += self.dt * self.v2\n\n        # Collision detection and resolution\n        vertices1 = np.asarray(artist1.mesh.vertices)\n        vertices2 = np.asarray(artist2.mesh.vertices)\n        dist, _, _, simplex = gjk.gjk_with_simplex(gjk.Convex(vertices1), gjk.Convex(vertices2))\n        if dist == 0.0:\n            mtv = epa.epa_vertices(simplex, vertices1, vertices2)\n            self.pose2[:3, 3] += mtv\n\n        artist2.set_data(np.copy(self.pose2))\n        return artist2\n\n\nfig = pv.figure()\nfig.plot_transform(np.eye(4), s=1)\n\n\nrandom_state = np.random.RandomState(6)\n\nvertices1, faces1, points1, triangles1 = random.randn_convex(\n    random_state, n_points=100000, center_scale=0.0, std=1, return_indices=True)\nmesh1 = o3d.geometry.TriangleMesh()\nmesh1.vertices = o3d.utility.Vector3dVector(points1)\nmesh1.triangles = o3d.utility.Vector3iVector(triangles1)\nartist1 = Mesh(mesh1)\nartist1.add_artist(fig)\n\nvertices2, faces2, points2, triangles2 = random.randn_convex(\n    random_state, n_points=100000, center_scale=0.0, std=0.1, return_indices=True)\nmesh2 = o3d.geometry.TriangleMesh()\nmesh2.vertices = o3d.utility.Vector3dVector(points2)\nmesh2.triangles = o3d.utility.Vector3iVector(triangles2)\nmesh22origin = pt.transform_from(R=np.eye(3), p=[0, 0, 10])\nartist2 = Mesh(mesh2, mesh22origin)\nartist2.add_artist(fig)\n\nfig.view_init()\n\nif \"__file__\" in globals():\n    fig.animate(AnimationCallback(mesh22origin),\n                500, loop=False, fargs=(artist1, artist2))\n    fig.show()\nelse:\n    fig.save_image(\"__open3d_rendered_image.jpg\")"
      ]
    }
  ],
  "metadata": {
    "kernelspec": {
      "display_name": "Python 3",
      "language": "python",
      "name": "python3"
    },
    "language_info": {
      "codemirror_mode": {
        "name": "ipython",
        "version": 3
      },
      "file_extension": ".py",
      "mimetype": "text/x-python",
      "name": "python",
      "nbconvert_exporter": "python",
      "pygments_lexer": "ipython3",
      "version": "3.8.8"
    }
  },
  "nbformat": 4,
  "nbformat_minor": 0
}