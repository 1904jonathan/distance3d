{
  "cells": [
    {
      "cell_type": "code",
      "execution_count": null,
      "metadata": {
        "collapsed": false
      },
      "outputs": [],
      "source": [
        "%matplotlib inline"
      ]
    },
    {
      "cell_type": "markdown",
      "metadata": {},
      "source": [
        "\n# Physical simulation with collision detection\n"
      ]
    },
    {
      "cell_type": "code",
      "execution_count": null,
      "metadata": {
        "collapsed": false
      },
      "outputs": [],
      "source": [
        "print(__doc__)\n\nimport numpy as np\nimport pytransform3d.transformations as pt\nimport pytransform3d.visualizer as pv\nfrom distance3d import random, gjk, epa, visualization, colliders\n\n\ndt = 0.001\ng = np.array([0, 0, -9.81])\n\n\nclass AnimationCallback:\n    def __init__(self, mesh2origin2):\n        self.dt = 0.01\n        self.m2 = 1.0\n        self.mesh2origin2 = mesh2origin2\n        self._initial_state()\n\n    def _initial_state(self):\n        self.pose2 = np.copy(self.mesh2origin2)\n        self.v2 = np.zeros(3)\n\n    def __call__(self, step, artist1, artist2):\n        if step == 0:\n            self._initial_state()\n\n        F_gravity = self.m2 * g\n\n        self.a2 = F_gravity / self.m2\n        self.v2 += self.dt * self.a2\n        self.pose2[:3, 3] += self.dt * self.v2\n\n        # Collision detection and resolution\n        vertices1 = np.asarray(artist1.mesh.vertices)\n        vertices2 = np.asarray(artist2.mesh.vertices)\n        collider1 = colliders.ConvexHullVertices(vertices1)\n        collider2 = colliders.ConvexHullVertices(vertices2)\n        dist, _, _, simplex = gjk.gjk(collider1, collider2)\n        if dist == 0.0:\n            mtv = epa.epa(simplex, collider1, collider2)[0]\n            self.pose2[:3, 3] += mtv\n\n        artist2.set_data(np.copy(self.pose2))\n        return artist2\n\n\nfig = pv.figure()\nfig.plot_transform(np.eye(4), s=1)\n\n\nrandom_state = np.random.RandomState(6)\n\nmesh2origin, vertices1, triangles1 = random.randn_convex(\n    random_state, n_vertices=10, center_scale=0.0, radius_scale=5)\nartist1 = visualization.Mesh(mesh2origin, vertices1, triangles1)\nartist1.add_artist(fig)\n\n_, vertices2, triangles2 = random.randn_convex(\n    random_state, n_vertices=10, center_scale=0.0, radius_scale=1)\nmesh2origin2 = pt.transform_from(R=np.eye(3), p=[0.0, 0.0, 10.0])\nartist2 = visualization.Mesh(mesh2origin2, vertices2, triangles2)\nartist2.add_artist(fig)\n\nfig.view_init()\n\nif \"__file__\" in globals():\n    fig.animate(AnimationCallback(mesh2origin2),\n                500, loop=False, fargs=(artist1, artist2))\n    fig.show()\nelse:\n    fig.save_image(\"__open3d_rendered_image.jpg\")"
      ]
    }
  ],
  "metadata": {
    "kernelspec": {
      "display_name": "Python 3",
      "language": "python",
      "name": "python3"
    },
    "language_info": {
      "codemirror_mode": {
        "name": "ipython",
        "version": 3
      },
      "file_extension": ".py",
      "mimetype": "text/x-python",
      "name": "python",
      "nbconvert_exporter": "python",
      "pygments_lexer": "ipython3",
      "version": "3.9.13"
    }
  },
  "nbformat": 4,
  "nbformat_minor": 0
}