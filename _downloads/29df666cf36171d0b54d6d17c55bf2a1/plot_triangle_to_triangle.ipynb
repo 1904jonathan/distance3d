{
  "cells": [
    {
      "cell_type": "code",
      "execution_count": null,
      "metadata": {
        "collapsed": false
      },
      "outputs": [],
      "source": [
        "%matplotlib inline"
      ]
    },
    {
      "cell_type": "markdown",
      "metadata": {},
      "source": [
        "\n# Distance between two triangles\n"
      ]
    },
    {
      "cell_type": "code",
      "execution_count": null,
      "metadata": {
        "collapsed": false
      },
      "outputs": [],
      "source": [
        "print(__doc__)\nimport time\nimport numpy as np\nimport matplotlib.pyplot as plt\nimport pytransform3d.plot_utils as ppu\nfrom distance3d.distance import triangle_to_triangle\nfrom distance3d import random, plotting\n\n\nrandom_state = np.random.RandomState(0)\ntriangle_points1 = np.array([[0, 0, 0], [0, 1, 0], [1, 0, 0]], dtype=float)\n\nax = ppu.make_3d_axis(ax_s=1)\n\naccumulated_time = 0.0\nfor i in range(1300):\n    triangle_points2 = random.randn_triangle(random_state) * 0.3 + 0.7 * np.sign(random_state.randn(3))\n    start = time.time()\n    dist, closest_point_triangle1, closest_point_triangle2 = triangle_to_triangle(\n        triangle_points1, triangle_points2)\n    end = time.time()\n    accumulated_time += end - start\n    print(dist)\n    if i > 10:\n        continue\n    plotting.plot_segment(\n        ax, closest_point_triangle1, closest_point_triangle2, c=\"k\", lw=1)\n    plotting.plot_triangle(ax, triangle_points2)\nprint(f\"{accumulated_time=}\")\n\nplotting.plot_triangle(ax, triangle_points1, surface_alpha=0.8)\nplt.show()"
      ]
    }
  ],
  "metadata": {
    "kernelspec": {
      "display_name": "Python 3",
      "language": "python",
      "name": "python3"
    },
    "language_info": {
      "codemirror_mode": {
        "name": "ipython",
        "version": 3
      },
      "file_extension": ".py",
      "mimetype": "text/x-python",
      "name": "python",
      "nbconvert_exporter": "python",
      "pygments_lexer": "ipython3",
      "version": "3.9.13"
    }
  },
  "nbformat": 4,
  "nbformat_minor": 0
}