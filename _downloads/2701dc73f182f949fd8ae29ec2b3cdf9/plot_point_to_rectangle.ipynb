{
  "cells": [
    {
      "cell_type": "code",
      "execution_count": null,
      "metadata": {
        "collapsed": false
      },
      "outputs": [],
      "source": [
        "%matplotlib inline"
      ]
    },
    {
      "cell_type": "markdown",
      "metadata": {},
      "source": [
        "\n# Distance from point to rectangle\n"
      ]
    },
    {
      "cell_type": "code",
      "execution_count": null,
      "metadata": {
        "collapsed": false
      },
      "outputs": [],
      "source": [
        "print(__doc__)\nimport time\nimport numpy as np\nimport matplotlib.pyplot as plt\nimport pytransform3d.plot_utils as ppu\nfrom distance3d.distance import point_to_rectangle\nfrom distance3d import random, plotting\n\n\nrandom_state = np.random.RandomState(9)\nrectangle_center, rectangle_axes, rectangle_lengths = random.randn_rectangle(\n    random_state, length_scale=5.0)\n\nax = ppu.make_3d_axis(ax_s=2)\n\naccumulated_time = 0.0\nfor i in range(45000):\n    point = random.randn_point(random_state)\n    start = time.time()\n    dist, contact_point = point_to_rectangle(point, rectangle_center, rectangle_axes, rectangle_lengths)\n    end = time.time()\n    accumulated_time += end - start\n    print(dist)\n    if i > 15:\n        continue\n    plotting.plot_segment(ax, point, contact_point, lw=1)\nprint(f\"{accumulated_time=}\")\n\nplotting.plot_rectangle(ax, rectangle_center, rectangle_axes, rectangle_lengths)\nplt.show()"
      ]
    }
  ],
  "metadata": {
    "kernelspec": {
      "display_name": "Python 3",
      "language": "python",
      "name": "python3"
    },
    "language_info": {
      "codemirror_mode": {
        "name": "ipython",
        "version": 3
      },
      "file_extension": ".py",
      "mimetype": "text/x-python",
      "name": "python",
      "nbconvert_exporter": "python",
      "pygments_lexer": "ipython3",
      "version": "3.8.8"
    }
  },
  "nbformat": 4,
  "nbformat_minor": 0
}