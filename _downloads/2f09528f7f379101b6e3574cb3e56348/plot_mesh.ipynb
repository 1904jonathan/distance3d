{
  "cells": [
    {
      "cell_type": "code",
      "execution_count": null,
      "metadata": {
        "collapsed": false
      },
      "outputs": [],
      "source": [
        "%matplotlib inline"
      ]
    },
    {
      "cell_type": "markdown",
      "metadata": {},
      "source": [
        "\n# Mesh Containment\n"
      ]
    },
    {
      "cell_type": "code",
      "execution_count": null,
      "metadata": {
        "collapsed": false
      },
      "outputs": [],
      "source": [
        "print(__doc__)\nimport time\nimport numpy as np\nimport matplotlib.pyplot as plt\nimport pytransform3d.plot_utils as ppu\nfrom distance3d import containment_test, random, plotting\n\n\nrandom_state = np.random.RandomState(1)\nmesh2origin, vertices, triangles = random.randn_convex(random_state, center_scale=0.0, radius_scale=10.0)\n\nax = ppu.make_3d_axis(ax_s=3)\npoints = random_state.rand(10000, 3)\npoints[:, 0] -= 0.5\npoints[:, 0] *= 2.0\npoints[:, 2] -= 0.5\npoints[:, 2] *= 2.0\nstart = time.time()\ncontained = containment_test.points_in_convex_mesh(points, mesh2origin, vertices, triangles)\nstop = time.time()\nprint(f\"{stop - start} s\")\nax.scatter(points[::10, 0], points[::10, 1], points[::10, 2], c=contained[::10])\nplotting.plot_convex(ax=ax, mesh2origin=mesh2origin, vertices=vertices, triangles=triangles)\nplt.show()"
      ]
    }
  ],
  "metadata": {
    "kernelspec": {
      "display_name": "Python 3",
      "language": "python",
      "name": "python3"
    },
    "language_info": {
      "codemirror_mode": {
        "name": "ipython",
        "version": 3
      },
      "file_extension": ".py",
      "mimetype": "text/x-python",
      "name": "python",
      "nbconvert_exporter": "python",
      "pygments_lexer": "ipython3",
      "version": "3.9.13"
    }
  },
  "nbformat": 4,
  "nbformat_minor": 0
}