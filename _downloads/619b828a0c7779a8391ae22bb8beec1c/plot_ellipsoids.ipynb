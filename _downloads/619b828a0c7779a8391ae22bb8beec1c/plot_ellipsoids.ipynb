{
  "cells": [
    {
      "cell_type": "code",
      "execution_count": null,
      "metadata": {
        "collapsed": false
      },
      "outputs": [],
      "source": [
        "%matplotlib inline"
      ]
    },
    {
      "cell_type": "markdown",
      "metadata": {},
      "source": [
        "\n# Distance between ellipsoids with GJK\n"
      ]
    },
    {
      "cell_type": "code",
      "execution_count": null,
      "metadata": {
        "collapsed": false
      },
      "outputs": [],
      "source": [
        "print(__doc__)\nimport time\nimport numpy as np\nimport matplotlib.pyplot as plt\nimport pytransform3d.plot_utils as ppu\nfrom distance3d import gjk, colliders\nfrom distance3d import random\nfrom distance3d import plotting\n\n\nrandom_state = np.random.RandomState(0)\nellipsoid2origin, radii = random.rand_ellipsoid(random_state, min_radius=0.2)\n\nax = ppu.make_3d_axis(ax_s=2)\n\naccumulated_time = 0.0\nfor i in range(700):\n    ellipsoid2origin2, radii2 = random.rand_ellipsoid(random_state, min_radius=0.2)\n    start = time.time()\n    c1 = colliders.Ellipsoid(ellipsoid2origin, radii)\n    c2 = colliders.Ellipsoid(ellipsoid2origin2, radii2)\n    dist, closest_point_capsule, closest_point_capsule2, _ = gjk.gjk(c1, c2)\n    end = time.time()\n    accumulated_time += end - start\n    print(dist)\n    if i > 5:\n        continue\n    plotting.plot_segment(\n        ax, closest_point_capsule, closest_point_capsule2, c=\"k\", lw=1)\n    ppu.plot_ellipsoid(\n        ax=ax, A2B=ellipsoid2origin2, radii=radii2, wireframe=False, alpha=0.5)\nprint(f\"{accumulated_time=}\")\n\nppu.plot_ellipsoid(\n    ax=ax, A2B=ellipsoid2origin, radii=radii, wireframe=False, alpha=0.5,\n    color=\"yellow\")\nplt.show()"
      ]
    }
  ],
  "metadata": {
    "kernelspec": {
      "display_name": "Python 3",
      "language": "python",
      "name": "python3"
    },
    "language_info": {
      "codemirror_mode": {
        "name": "ipython",
        "version": 3
      },
      "file_extension": ".py",
      "mimetype": "text/x-python",
      "name": "python",
      "nbconvert_exporter": "python",
      "pygments_lexer": "ipython3",
      "version": "3.9.13"
    }
  },
  "nbformat": 4,
  "nbformat_minor": 0
}