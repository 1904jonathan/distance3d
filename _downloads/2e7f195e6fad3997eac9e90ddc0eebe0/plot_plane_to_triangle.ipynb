{
  "cells": [
    {
      "cell_type": "code",
      "execution_count": null,
      "metadata": {
        "collapsed": false
      },
      "outputs": [],
      "source": [
        "%matplotlib inline"
      ]
    },
    {
      "cell_type": "markdown",
      "metadata": {},
      "source": [
        "\n# Distance from plane to triangle\n"
      ]
    },
    {
      "cell_type": "code",
      "execution_count": null,
      "metadata": {
        "collapsed": false
      },
      "outputs": [],
      "source": [
        "print(__doc__)\nimport time\nimport numpy as np\nimport matplotlib.pyplot as plt\nimport pytransform3d.plot_utils as ppu\nfrom distance3d.distance import plane_to_triangle\nfrom distance3d import random, plotting\n\n\nrandom_state = np.random.RandomState(3)\nplane_point, plane_normal = random.randn_plane(random_state)\n\nax = ppu.make_3d_axis(ax_s=2)\n\naccumulated_time = 0.0\nfor i in range(40000):\n    triangle_points = random.randn_triangle(random_state)\n    start = time.time()\n    dist, closest_point_plane, closest_point_triangle = plane_to_triangle(\n        plane_point, plane_normal, triangle_points)\n    end = time.time()\n    accumulated_time += end - start\n    print(dist)\n    if i > 5:\n        continue\n    plotting.plot_segment(\n        ax, closest_point_plane, closest_point_triangle, c=\"k\", lw=1)\n    plotting.plot_triangle(ax, triangle_points)\nprint(f\"{accumulated_time=}\")\n\nplotting.plot_plane(\n    ax=ax, plane_point=plane_point, plane_normal=plane_normal, s=2)\nax.view_init(azim=150, elev=30)\nplt.show()"
      ]
    }
  ],
  "metadata": {
    "kernelspec": {
      "display_name": "Python 3",
      "language": "python",
      "name": "python3"
    },
    "language_info": {
      "codemirror_mode": {
        "name": "ipython",
        "version": 3
      },
      "file_extension": ".py",
      "mimetype": "text/x-python",
      "name": "python",
      "nbconvert_exporter": "python",
      "pygments_lexer": "ipython3",
      "version": "3.8.8"
    }
  },
  "nbformat": 4,
  "nbformat_minor": 0
}