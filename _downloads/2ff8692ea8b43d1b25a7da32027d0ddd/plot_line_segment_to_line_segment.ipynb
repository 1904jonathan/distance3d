{
  "cells": [
    {
      "cell_type": "code",
      "execution_count": null,
      "metadata": {
        "collapsed": false
      },
      "outputs": [],
      "source": [
        "%matplotlib inline"
      ]
    },
    {
      "cell_type": "markdown",
      "metadata": {},
      "source": [
        "\n# Distance from line segment to line segment\n"
      ]
    },
    {
      "cell_type": "code",
      "execution_count": null,
      "metadata": {
        "collapsed": false
      },
      "outputs": [],
      "source": [
        "print(__doc__)\nimport time\nimport numpy as np\nimport matplotlib.pyplot as plt\nimport pytransform3d.plot_utils as ppu\nfrom distance3d.distance import line_segment_to_line_segment\nfrom distance3d import random, plotting\n\n\nrandom_state = np.random.RandomState(0)\nsegment_start1, segment_end1 = random.randn_line_segment(random_state)\nsegment_direction1 = segment_end1 - segment_start1\nsegment_direction1 /= np.linalg.norm(segment_direction1)\n\nax = ppu.make_3d_axis(ax_s=3)\n\naccumulated_time = 0.0\nfor i in range(50000):\n    segment_start2, segment_end2 = random.randn_line_segment(random_state)\n    if random_state.rand() < 0.5:\n        segment_end2 = (segment_start2 + segment_direction1\n                        * np.linalg.norm(segment_end2 - segment_start2))\n    start = time.time()\n    dist, closest_point_segment1, closest_point_segment2 = line_segment_to_line_segment(\n        segment_start1, segment_end1, segment_start2, segment_end2)\n    end = time.time()\n    accumulated_time += end - start\n    print(dist)\n    if i > 15:\n        continue\n    plotting.plot_segment(\n        ax, closest_point_segment1, closest_point_segment2, c=\"k\", lw=1)\n    plotting.plot_segment(ax, segment_start2, segment_end2)\nprint(f\"{accumulated_time=}\")\n\nplotting.plot_segment(ax, segment_start1, segment_end1)\nplt.show()"
      ]
    }
  ],
  "metadata": {
    "kernelspec": {
      "display_name": "Python 3",
      "language": "python",
      "name": "python3"
    },
    "language_info": {
      "codemirror_mode": {
        "name": "ipython",
        "version": 3
      },
      "file_extension": ".py",
      "mimetype": "text/x-python",
      "name": "python",
      "nbconvert_exporter": "python",
      "pygments_lexer": "ipython3",
      "version": "3.8.8"
    }
  },
  "nbformat": 4,
  "nbformat_minor": 0
}