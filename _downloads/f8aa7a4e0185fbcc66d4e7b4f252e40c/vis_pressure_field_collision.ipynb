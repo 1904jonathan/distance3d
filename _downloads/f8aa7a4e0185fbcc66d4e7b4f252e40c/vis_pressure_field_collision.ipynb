{
  "cells": [
    {
      "cell_type": "code",
      "execution_count": null,
      "metadata": {
        "collapsed": false
      },
      "outputs": [],
      "source": [
        "%matplotlib inline"
      ]
    },
    {
      "cell_type": "markdown",
      "metadata": {},
      "source": [
        "\n# Physical Simulation of Bouncing Ball\n"
      ]
    },
    {
      "cell_type": "code",
      "execution_count": null,
      "metadata": {
        "collapsed": false
      },
      "outputs": [],
      "source": [
        "print(__doc__)\n\nimport numpy as np\nimport pytransform3d.visualizer as pv\nfrom distance3d import visualization, hydroelastic_contact\n\ndt = 0.001\ng = np.array([0, -9.81, 0])\n\nfig = pv.figure()\nfig.plot_transform(np.eye(4), s=0.1)\n\np_objects = []\n\n\nclass PhysicsObject:\n    def __init__(self, rigid_body, artist, mass, velocity, fixed=False):\n        self.rigid_body = rigid_body\n        self.fixed = fixed\n\n        self.mass = mass\n\n        self.acceleration = np.zeros(3, dtype=float)\n        self.velocity = velocity\n        self.artist_ = artist\n\n    def step(self, forces=[]):\n        if self.fixed:\n            return\n\n        gravity_force = g * self.mass\n        forces.append(gravity_force)\n\n        self.acceleration = np.add.reduce(forces) / self.mass\n        self.velocity += dt * self.acceleration\n        self.rigid_body.body2origin_[:3, 3] += self.velocity * dt\n        self.artist_.set_data(self.rigid_body.body2origin_, self.rigid_body.vertices_,\n                              self.rigid_body.tetrahedra_)\n\n\nclass AnimationCallback:\n    def __init__(self, p_object1, p_object2):\n        self.p_object1 = p_object1\n        self.p_object2 = p_object2\n        self.contact_surfaces = []\n\n        contact_surface = hydroelastic_contact.find_contact_surface(\n            self.p_object1.rigid_body, self.p_object2.rigid_body)\n\n        self.contact_surface = visualization.ContactSurface(\n            contact_surface.frame2world,\n            contact_surface.contact_polygons,\n            contact_surface.contact_polygon_triangles,\n            contact_surface.pressures)\n        self.contact_surface.add_artist(fig)\n\n    def __call__(self, step):\n        intersection, wrench12, wrench21, details = hydroelastic_contact.contact_forces(\n            self.p_object1.rigid_body, self.p_object2.rigid_body, return_details=True)\n\n        if intersection:\n            self.contact_surface.set_data(\n                np.eye(4),\n                details[\"contact_polygons\"],\n                details[\"contact_polygon_triangles\"],\n                details[\"pressures\"])\n\n        self.p_object1.step([wrench21[:3]])\n        self.p_object2.step([wrench12[:3]])\n\n        return [self.p_object1.artist_, self.p_object2.artist_, self.contact_surface]\n\n\ndef make_object(rigid_body, mass, acc, fixed):\n    artist = visualization.RigidBodyTetrahedralMesh(\n        rigid_body.body2origin_, rigid_body.vertices_, rigid_body.tetrahedra_)\n    artist.add_artist(fig)\n\n    return PhysicsObject(rigid_body, artist, mass, acc, fixed)\n\n\nrb1 = hydroelastic_contact.RigidBody.make_box(np.eye(4), np.array([0.5, 0.5, 0.5]))\nrb2 = hydroelastic_contact.RigidBody.make_sphere(np.array([0.0, 1.0, 0.0]), 0.15, 2)\n\n\nGPa = 100000000\nrb1.youngs_modulus = 100 * GPa\nrb2.youngs_modulus = 0.1 * GPa\n\np_object1 = make_object(rb1, 100, np.array([0.0, 0.0, 0.0]), True)\np_object2 = make_object(rb2, 1, np.array([-0.1, 0.0, 0.0]), False)\n\nfig.view_init()\n\nif \"__file__\" in globals():\n    fig.animate(AnimationCallback(p_object1, p_object2), 500, loop=True)\n    fig.show()\nelse:\n    fig.save_image(\"__open3d_rendered_image.jpg\")"
      ]
    }
  ],
  "metadata": {
    "kernelspec": {
      "display_name": "Python 3",
      "language": "python",
      "name": "python3"
    },
    "language_info": {
      "codemirror_mode": {
        "name": "ipython",
        "version": 3
      },
      "file_extension": ".py",
      "mimetype": "text/x-python",
      "name": "python",
      "nbconvert_exporter": "python",
      "pygments_lexer": "ipython3",
      "version": "3.9.13"
    }
  },
  "nbformat": 4,
  "nbformat_minor": 0
}