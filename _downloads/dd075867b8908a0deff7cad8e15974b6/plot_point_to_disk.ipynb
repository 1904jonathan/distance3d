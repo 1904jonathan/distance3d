{
  "cells": [
    {
      "cell_type": "code",
      "execution_count": null,
      "metadata": {
        "collapsed": false
      },
      "outputs": [],
      "source": [
        "%matplotlib inline"
      ]
    },
    {
      "cell_type": "markdown",
      "metadata": {},
      "source": [
        "\n# Distance from point to disk\n"
      ]
    },
    {
      "cell_type": "code",
      "execution_count": null,
      "metadata": {
        "collapsed": false
      },
      "outputs": [],
      "source": [
        "print(__doc__)\nimport time\nimport numpy as np\nimport matplotlib.pyplot as plt\nimport pytransform3d.rotations as pr\nimport pytransform3d.plot_utils as ppu\nfrom distance3d.distance import point_to_disk\nfrom distance3d import random, plotting\n\n\nrandom_state = np.random.RandomState(0)\npoint = np.array([-0.2, -0.6, -0.4])\ncenter = np.array([0.0, 0.0, 0.3])\nradius = 0.5\nnormal = pr.norm_vector(np.array([0.5, -0.3, 0.4]))\n\nax = ppu.make_3d_axis(ax_s=1)\n\naccumulated_time = 0.0\nfor i in range(62000):\n    point = random.randn_point(random_state)\n    start = time.time()\n    distance, closest_point = point_to_disk(point, center, radius, normal)\n    end = time.time()\n    accumulated_time += end - start\n    print(f\"{distance}\")\n    if i > 25:\n        continue\n    plotting.plot_segment(ax, point, closest_point, lw=1)\nprint(f\"{accumulated_time=}\")\n\nax.scatter(center[0], center[1], center[2])\nplotting.plot_circle(ax, center, radius, normal)\nplt.show()"
      ]
    }
  ],
  "metadata": {
    "kernelspec": {
      "display_name": "Python 3",
      "language": "python",
      "name": "python3"
    },
    "language_info": {
      "codemirror_mode": {
        "name": "ipython",
        "version": 3
      },
      "file_extension": ".py",
      "mimetype": "text/x-python",
      "name": "python",
      "nbconvert_exporter": "python",
      "pygments_lexer": "ipython3",
      "version": "3.9.13"
    }
  },
  "nbformat": 4,
  "nbformat_minor": 0
}