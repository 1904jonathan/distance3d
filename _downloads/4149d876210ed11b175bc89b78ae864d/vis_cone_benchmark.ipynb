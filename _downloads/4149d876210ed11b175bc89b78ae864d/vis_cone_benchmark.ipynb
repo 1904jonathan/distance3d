{
  "cells": [
    {
      "cell_type": "code",
      "execution_count": null,
      "metadata": {
        "collapsed": false
      },
      "outputs": [],
      "source": [
        "%matplotlib inline"
      ]
    },
    {
      "cell_type": "markdown",
      "metadata": {},
      "source": [
        "\n# Benchmark collision detection for cones\n"
      ]
    },
    {
      "cell_type": "code",
      "execution_count": null,
      "metadata": {
        "collapsed": false
      },
      "outputs": [],
      "source": [
        "print(__doc__)\nimport numpy as np\nfrom pytransform3d.transform_manager import TransformManager\nimport pytransform3d.visualizer as pv\nfrom distance3d.random import rand_cone\nfrom distance3d.colliders import Cone\nfrom distance3d.broad_phase import BoundingVolumeHierarchy\nfrom distance3d.gjk import gjk\nfrom distance3d.urdf_utils import fast_transform_manager_initialization\nfrom distance3d.benchmark import Timer\n\n\ncollision_margin = 1e-3\ntm = TransformManager(check=False)\nbvh = BoundingVolumeHierarchy(tm, \"base\")\nrandom_state = np.random.RandomState(32)\n\ntimer = Timer()\ncapsule_frames = list(range(2000))\nfast_transform_manager_initialization(tm, capsule_frames, \"base\")\nfor i in capsule_frames:\n    cone2origin, radius, height = rand_cone(\n        random_state, center_scale=2.0, radius_scale=0.1, height_scale=0.5)\n    collider = Cone(cone2origin, radius, height)\n    collider.make_artist(c=(0, 1, 0))\n\n    timer.start(\"aabbtree\")\n    tm.add_transform(i, \"base\", cone2origin)\n    bvh.add_collider(i, collider)\n    timer.stop_and_add_to_total(\"aabbtree\")\n\ntimer.start(\"collision\")\ncollisions = []\nfor frame1, collider1 in bvh.colliders_.items():\n    timer.start(\"broad phase\")\n    colliders = bvh.aabb_overlapping_colliders(collider1, whitelist=(frame1,))\n    timer.stop_and_add_to_total(\"broad phase\")\n    for frame2, collider2 in colliders.items():\n        timer.start(\"gjk\")\n        dist, point1, point2, _ = gjk(collider1, collider2)\n        timer.stop_and_add_to_total(\"gjk\")\n        if dist < collision_margin:\n            collisions.append((frame1, frame2))\ntotal_collision_detection = timer.stop(\"collision\")\nprint(f\"Insertion in AABB tree: {timer.total_time_['aabbtree']} s\")\nprint(f\"Collision detection (broad phase + GJK): \"\n      f\"{total_collision_detection} s\")\nprint(f\"Broad phase: {timer.total_time_['broad phase']}\")\nprint(f\"GJK: {timer.total_time_['gjk']}\")\nprint(f\"{len(collisions)} collisions\")\n\nfor frame1, frame2 in collisions:\n    bvh.colliders_[frame1].artist_.geometries[0].paint_uniform_color((1, 0, 0))\n\nfig = pv.figure()\nfor artist in bvh.get_artists():\n    artist.add_artist(fig)\n\nif \"__file__\" in globals():\n    fig.show()\nelse:\n    fig.save_image(\"__open3d_rendered_image.jpg\")"
      ]
    }
  ],
  "metadata": {
    "kernelspec": {
      "display_name": "Python 3",
      "language": "python",
      "name": "python3"
    },
    "language_info": {
      "codemirror_mode": {
        "name": "ipython",
        "version": 3
      },
      "file_extension": ".py",
      "mimetype": "text/x-python",
      "name": "python",
      "nbconvert_exporter": "python",
      "pygments_lexer": "ipython3",
      "version": "3.8.8"
    }
  },
  "nbformat": 4,
  "nbformat_minor": 0
}