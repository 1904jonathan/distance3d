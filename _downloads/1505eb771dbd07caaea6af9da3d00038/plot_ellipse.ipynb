{
  "cells": [
    {
      "cell_type": "code",
      "execution_count": null,
      "metadata": {
        "collapsed": false
      },
      "outputs": [],
      "source": [
        "%matplotlib inline"
      ]
    },
    {
      "cell_type": "markdown",
      "metadata": {},
      "source": [
        "\n# Distance between ellipses with GJK\n"
      ]
    },
    {
      "cell_type": "code",
      "execution_count": null,
      "metadata": {
        "collapsed": false
      },
      "outputs": [],
      "source": [
        "print(__doc__)\nimport time\nimport numpy as np\nimport matplotlib.pyplot as plt\nimport pytransform3d.plot_utils as ppu\nfrom distance3d import gjk, colliders\nfrom distance3d import random\nfrom distance3d import plotting\n\n\nrandom_state = np.random.RandomState(0)\ncenter, axes, radii = random.rand_ellipse(random_state)\n\nax = ppu.make_3d_axis(ax_s=2)\n\naccumulated_time = 0.0\nfor i in range(700):\n    center2, axes2, radii2 = random.rand_ellipse(random_state)\n    start = time.time()\n    c1 = colliders.Ellipse(center, axes, radii)\n    c2 = colliders.Ellipse(center2, axes2, radii2)\n    dist, closest_point_capsule, closest_point_capsule2, _ = gjk.gjk(c1, c2)\n    end = time.time()\n    accumulated_time += end - start\n    print(dist)\n    if i > 5:\n        continue\n    plotting.plot_segment(\n        ax, closest_point_capsule, closest_point_capsule2, c=\"k\", lw=1)\n    plotting.plot_ellipse(\n        ax=ax, center=center2, axes=axes2, radii=radii2, surface_alpha=0.5)\nprint(f\"{accumulated_time=}\")\n\nplotting.plot_ellipse(\n    ax=ax, center=center, axes=axes, radii=radii, surface_alpha=0.5,\n    color=\"yellow\")\nplt.show()"
      ]
    }
  ],
  "metadata": {
    "kernelspec": {
      "display_name": "Python 3",
      "language": "python",
      "name": "python3"
    },
    "language_info": {
      "codemirror_mode": {
        "name": "ipython",
        "version": 3
      },
      "file_extension": ".py",
      "mimetype": "text/x-python",
      "name": "python",
      "nbconvert_exporter": "python",
      "pygments_lexer": "ipython3",
      "version": "3.8.8"
    }
  },
  "nbformat": 4,
  "nbformat_minor": 0
}