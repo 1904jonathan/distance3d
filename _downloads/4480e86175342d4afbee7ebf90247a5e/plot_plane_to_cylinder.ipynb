{
  "cells": [
    {
      "cell_type": "code",
      "execution_count": null,
      "metadata": {
        "collapsed": false
      },
      "outputs": [],
      "source": [
        "%matplotlib inline"
      ]
    },
    {
      "cell_type": "markdown",
      "metadata": {},
      "source": [
        "\n# Distance from plane to cylinder\n"
      ]
    },
    {
      "cell_type": "code",
      "execution_count": null,
      "metadata": {
        "collapsed": false
      },
      "outputs": [],
      "source": [
        "print(__doc__)\nimport time\nimport numpy as np\nimport matplotlib.pyplot as plt\nimport pytransform3d.transformations as pt\nimport pytransform3d.plot_utils as ppu\nfrom distance3d.distance import plane_to_cylinder\nfrom distance3d import random, plotting\n\n\nrandom_state = np.random.RandomState(2)\ncylinder2origin, radius, length = random.rand_cylinder(\n    random_state, min_radius=0.1, min_length=2.0)\n\nax = ppu.make_3d_axis(ax_s=2)\n\naccumulated_time = 0.0\nfor i in range(15000):\n    plane_point, plane_normal = random.randn_plane(random_state, scale=5.0)\n    start = time.time()\n    dist, closest_point_plane, closest_point_cylinder = plane_to_cylinder(\n        plane_point, plane_normal, cylinder2origin, radius, length)\n    end = time.time()\n    accumulated_time += end - start\n    print(dist)\n    if i > 3:\n        continue\n    plotting.plot_segment(ax, closest_point_plane, closest_point_cylinder,\n                          c=\"k\", lw=1)\n    plotting.plot_plane(\n        ax=ax, plane_point=plane_point, plane_normal=plane_normal, s=10,\n        color=\"b\")\nprint(f\"{accumulated_time=}\")\n\nppu.plot_cylinder(ax=ax, A2B=cylinder2origin, radius=radius, length=length,\n                  wireframe=False, alpha=0.5)\npt.plot_transform(ax=ax, A2B=cylinder2origin, s=0.1)\n\nplt.show()"
      ]
    }
  ],
  "metadata": {
    "kernelspec": {
      "display_name": "Python 3",
      "language": "python",
      "name": "python3"
    },
    "language_info": {
      "codemirror_mode": {
        "name": "ipython",
        "version": 3
      },
      "file_extension": ".py",
      "mimetype": "text/x-python",
      "name": "python",
      "nbconvert_exporter": "python",
      "pygments_lexer": "ipython3",
      "version": "3.8.8"
    }
  },
  "nbformat": 4,
  "nbformat_minor": 0
}