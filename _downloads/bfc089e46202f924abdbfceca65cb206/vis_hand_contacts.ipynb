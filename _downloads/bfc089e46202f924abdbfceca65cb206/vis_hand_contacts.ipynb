{
  "cells": [
    {
      "cell_type": "code",
      "execution_count": null,
      "metadata": {
        "collapsed": false
      },
      "outputs": [],
      "source": [
        "%matplotlib inline"
      ]
    },
    {
      "cell_type": "markdown",
      "metadata": {},
      "source": [
        "\n# Title\n"
      ]
    },
    {
      "cell_type": "code",
      "execution_count": null,
      "metadata": {
        "collapsed": false
      },
      "outputs": [],
      "source": [
        "import numpy as np\nimport pytransform3d.visualizer as pv\nimport pytransform3d.transformations as pr\nfrom grasp_metrics.hands import MiaHand\nfrom distance3d.broad_phase import BoundingVolumeHierarchy\nfrom distance3d.colliders import Box\nfrom distance3d.mpr import mpr_penetration\n\n\nhand = MiaHand()\njoint_angles = hand.get_grasp_angles(\"lateral\", 0.1)\nfor joint_name in joint_angles:\n    hand.tm_.set_joint(joint_name, joint_angles[joint_name])\n\nbvh = BoundingVolumeHierarchy(hand.tm_, hand.get_base_frame())\nbvh.fill_tree_with_colliders(\n    hand.tm_, make_artists=True, fill_self_collision_whitelists=True)\n\nobject_to_grasp = Box(pr.transform_from(R=np.eye(3), p=np.array([0.04, 0.14, 0.03])),\n                      np.array([0.03, 0.025, 0.025]))\nobject_to_grasp.make_artist()\ngeometry = object_to_grasp.artist_.geometries[0]\naabb = geometry.get_axis_aligned_bounding_box()\n\nfig = pv.figure()\nfor hand_collider in bvh.get_colliders():\n    #hand_collider.artist_.add_artist(fig)\n    geometry = hand_collider.artist_.geometries[0]\n    points = geometry.sample_points_poisson_disk(500)\n    fig.add_geometry(points)\n\nfor hand_collider in bvh.get_colliders():\n    intersection, depth, direction, position = mpr_penetration(\n        hand_collider, object_to_grasp)\n    if intersection:\n        fig.plot_vector(position, depth * direction, c=(1, 0, 0))\n\nfig.add_geometry(aabb)\nfig.show()"
      ]
    }
  ],
  "metadata": {
    "kernelspec": {
      "display_name": "Python 3",
      "language": "python",
      "name": "python3"
    },
    "language_info": {
      "codemirror_mode": {
        "name": "ipython",
        "version": 3
      },
      "file_extension": ".py",
      "mimetype": "text/x-python",
      "name": "python",
      "nbconvert_exporter": "python",
      "pygments_lexer": "ipython3",
      "version": "3.8.8"
    }
  },
  "nbformat": 4,
  "nbformat_minor": 0
}