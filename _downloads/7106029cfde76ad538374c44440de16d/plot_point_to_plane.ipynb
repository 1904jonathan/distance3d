{
  "cells": [
    {
      "cell_type": "code",
      "execution_count": null,
      "metadata": {
        "collapsed": false
      },
      "outputs": [],
      "source": [
        "%matplotlib inline"
      ]
    },
    {
      "cell_type": "markdown",
      "metadata": {},
      "source": [
        "\n# Distance from point to plane\n"
      ]
    },
    {
      "cell_type": "code",
      "execution_count": null,
      "metadata": {
        "collapsed": false
      },
      "outputs": [],
      "source": [
        "print(__doc__)\nimport time\nimport numpy as np\nimport matplotlib.pyplot as plt\nimport pytransform3d.rotations as pr\nimport pytransform3d.plot_utils as ppu\nfrom distance3d.distance import point_to_plane\nfrom distance3d import random, plotting\n\n\nrandom_state = np.random.RandomState(0)\n# TODO move to random\nplane_point = random_state.randn(3)\nplane_normal = pr.norm_vector(random_state.randn(3))\n\nax = ppu.make_3d_axis(ax_s=2)\n\naccumulated_time = 0.0\nfor i in range(150000):\n    point = random.randn_point(random_state)\n    start = time.time()\n    dist, contact_point = point_to_plane(point, plane_point, plane_normal)\n    end = time.time()\n    accumulated_time += end - start\n    print(dist)\n    if i > 10:\n        continue\n    plotting.plot_segment(ax, point, contact_point, lw=1)\nprint(f\"{accumulated_time=}\")\n\n# TODO how to plot a plane? part of pytransform3d?\nppu.plot_vector(ax=ax, start=plane_point, direction=plane_normal)\nplt.show()"
      ]
    }
  ],
  "metadata": {
    "kernelspec": {
      "display_name": "Python 3",
      "language": "python",
      "name": "python3"
    },
    "language_info": {
      "codemirror_mode": {
        "name": "ipython",
        "version": 3
      },
      "file_extension": ".py",
      "mimetype": "text/x-python",
      "name": "python",
      "nbconvert_exporter": "python",
      "pygments_lexer": "ipython3",
      "version": "3.8.8"
    }
  },
  "nbformat": 4,
  "nbformat_minor": 0
}