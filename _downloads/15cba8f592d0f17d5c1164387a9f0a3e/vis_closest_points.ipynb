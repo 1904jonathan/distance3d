{
  "cells": [
    {
      "cell_type": "code",
      "execution_count": null,
      "metadata": {
        "collapsed": false
      },
      "outputs": [],
      "source": [
        "%matplotlib inline"
      ]
    },
    {
      "cell_type": "markdown",
      "metadata": {},
      "source": [
        "\n# Closest Points with GJK\n"
      ]
    },
    {
      "cell_type": "code",
      "execution_count": null,
      "metadata": {
        "collapsed": false
      },
      "outputs": [],
      "source": [
        "print(__doc__)\n\nimport time\nimport numpy as np\nimport pytransform3d.visualizer as pv\nimport pytransform3d.rotations as pr\nimport pytransform3d.transformations as pt\nfrom distance3d import random, colliders, gjk\n\n\nclass AnimationCallback:\n    def __init__(self, n_frames=100, verbose=0):\n        self.n_frames = n_frames\n        self.verbose = verbose\n        self.total_time = 0.0\n\n    def __call__(self, step, obj, env, connections):\n        if step == 0:\n            self.total_time = 0.0\n\n        angle = np.pi * np.cos(2.0 * np.pi * (step / self.n_frames))\n        obj2world = pt.transform_from(\n            R=pr.active_matrix_from_angle(1, angle), p=np.zeros(3))\n        obj.update_pose(obj2world)\n\n        total_time = 0.0\n        start = time.time()\n        for collider, connection in zip(env, connections):\n            _, cp1, cp2, _ = gjk.gjk(obj, collider)\n            connection.set_data(np.row_stack((cp1, cp2)))\n        stop = time.time()\n        total_time += stop - start\n\n        self.total_time += total_time\n\n        if step == self.n_frames - 1:\n            print(f\"Total time: {self.total_time}\")\n\n        return [obj.artist_] + connections\n\n\nrandom_state = np.random.RandomState(5)\n\nfig = pv.figure()\n\nenv = []\nconnections = []\nfor _ in range(10):\n    cone2origin, radius, height = random.rand_cone(\n        random_state, center_scale=5.0, min_height=0.5, min_radius=0.2)\n    cone = colliders.Cone(\n        cone2origin=cone2origin, radius=radius, height=height)\n    env.append(cone)\n    color = random_state.rand(3)\n    cone.make_artist(color)\n    cone.artist_.add_artist(fig)\n\n    connection = pv.Line3D(np.zeros((2, 3)), c=color)\n    connection.add_artist(fig)\n    connections.append(connection)\nfor _ in range(10):\n    center, radius = random.rand_sphere(random_state, center_scale=5.0)\n    sphere = colliders.Sphere(center=center, radius=radius)\n    env.append(sphere)\n    color = random_state.rand(3)\n    sphere.make_artist(color)\n    sphere.artist_.add_artist(fig)\n\n    connection = pv.Line3D(np.zeros((2, 3)), c=color)\n    connection.add_artist(fig)\n    connections.append(connection)\nfor _ in range(10):\n    ellipsoid2origin, radii = random.rand_ellipsoid(\n        random_state, center_scale=5.0, min_radius=0.2)\n    ellipsoid = colliders.Ellipsoid(ellipsoid2origin, radii)\n    env.append(ellipsoid)\n    color = random_state.rand(3)\n    ellipsoid.make_artist(color)\n    ellipsoid.artist_.add_artist(fig)\n\n    connection = pv.Line3D(np.zeros((2, 3)), c=color)\n    connection.add_artist(fig)\n    connections.append(connection)\n\ncapsule2origin, radius, height = random.rand_capsule(\n    random_state, center_scale=0.0, radius_scale=1.0, height_scale=10.0)\nobj = colliders.Capsule(capsule2origin, radius, height)\nobj.make_artist()\nobj.artist_.add_artist(fig)\n\nfig.view_init()\nn_frames = 200\nanimation_callback = AnimationCallback(n_frames=n_frames, verbose=0)\nif \"__file__\" in globals():\n    fig.animate(animation_callback, n_frames, loop=True,\n                fargs=(obj, env, connections))\n    fig.show()\nelse:\n    fig.save_image(\"__open3d_rendered_image.jpg\")"
      ]
    }
  ],
  "metadata": {
    "kernelspec": {
      "display_name": "Python 3",
      "language": "python",
      "name": "python3"
    },
    "language_info": {
      "codemirror_mode": {
        "name": "ipython",
        "version": 3
      },
      "file_extension": ".py",
      "mimetype": "text/x-python",
      "name": "python",
      "nbconvert_exporter": "python",
      "pygments_lexer": "ipython3",
      "version": "3.9.13"
    }
  },
  "nbformat": 4,
  "nbformat_minor": 0
}