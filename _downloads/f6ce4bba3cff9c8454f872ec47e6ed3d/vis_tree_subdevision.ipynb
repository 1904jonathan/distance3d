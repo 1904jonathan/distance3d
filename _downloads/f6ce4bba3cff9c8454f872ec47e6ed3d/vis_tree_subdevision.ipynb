{
  "cells": [
    {
      "cell_type": "code",
      "execution_count": null,
      "metadata": {
        "collapsed": false
      },
      "outputs": [],
      "source": [
        "%matplotlib inline"
      ]
    },
    {
      "cell_type": "markdown",
      "metadata": {},
      "source": [
        "\n# Visualize Subdivision of the AABB Tree\n"
      ]
    },
    {
      "cell_type": "code",
      "execution_count": null,
      "metadata": {
        "collapsed": false
      },
      "outputs": [],
      "source": [
        "print(__doc__)\n\nfrom distance3d.aabb_tree import AabbTree\nimport numpy as np\nimport pytransform3d.visualizer as pv\nfrom distance3d import visualization, hydroelastic_contact\n\ndef get_leafs_of_node(node_index, nodes):\n    if nodes[node_index, 3] == 1:\n        return [node_index]\n    else:\n        leafs = get_leafs_of_node(nodes[node_index, 1], nodes)\n        leafs.extend(get_leafs_of_node(nodes[node_index, 2], nodes))\n        return leafs\n\n\nrigid_body1 = hydroelastic_contact.RigidBody.make_sphere(0 * np.ones(3), 0.15, 4)\n\npoints = rigid_body1.tetrahedra_points\naabbs1 = hydroelastic_contact.tetrahedral_mesh_aabbs(points)\n\naabb_tree = AabbTree()\naabb_tree.insert_aabbs(aabbs1, pre_insertion_methode=\"shuffle\")\n\nprint(aabb_tree)\n\nfig = pv.figure()\nfig.plot_transform(np.eye(4), s=0.1)\nvisualization.RigidBodyTetrahedralMesh(\n    rigid_body1.body2origin_, rigid_body1.vertices_, rigid_body1.tetrahedra_).add_artist(fig)\n\n\ndef color_leaves(index, color):\n    for i in get_leafs_of_node(index, aabb_tree.nodes):\n        tetrahedron_points1 = points[i].dot(\n            rigid_body1.body2origin_[:3, :3].T) + rigid_body1.body2origin_[:3, 3]\n        visualization.Tetrahedron(tetrahedron_points1, c=color).add_artist(fig)\n\n\na = aabb_tree.nodes[aabb_tree.nodes[aabb_tree.root, 1], 1]\nif a != -1:\n    color_leaves(a, (1, 0, 0))\n\na = aabb_tree.nodes[aabb_tree.nodes[aabb_tree.root, 1], 2]\nif a != -1:\n    color_leaves(a, (1, 0, 0.3))\n\na = aabb_tree.nodes[aabb_tree.nodes[aabb_tree.root, 2], 1]\nif a != -1:\n    color_leaves(a, (0, 1, 0))\n\na = aabb_tree.nodes[aabb_tree.nodes[aabb_tree.root, 2], 2]\nif a != -1:\n    color_leaves(a, (0, 1, 0.3))\n\n\nfig.view_init()\nfig.show()"
      ]
    }
  ],
  "metadata": {
    "kernelspec": {
      "display_name": "Python 3",
      "language": "python",
      "name": "python3"
    },
    "language_info": {
      "codemirror_mode": {
        "name": "ipython",
        "version": 3
      },
      "file_extension": ".py",
      "mimetype": "text/x-python",
      "name": "python",
      "nbconvert_exporter": "python",
      "pygments_lexer": "ipython3",
      "version": "3.9.13"
    }
  },
  "nbformat": 4,
  "nbformat_minor": 0
}