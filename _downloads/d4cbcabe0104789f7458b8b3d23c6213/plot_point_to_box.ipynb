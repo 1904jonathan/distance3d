{
  "cells": [
    {
      "cell_type": "code",
      "execution_count": null,
      "metadata": {
        "collapsed": false
      },
      "outputs": [],
      "source": [
        "%matplotlib inline"
      ]
    },
    {
      "cell_type": "markdown",
      "metadata": {},
      "source": [
        "\n# Distance from point to box\n"
      ]
    },
    {
      "cell_type": "code",
      "execution_count": null,
      "metadata": {
        "collapsed": false
      },
      "outputs": [],
      "source": [
        "print(__doc__)\nimport time\nimport numpy as np\nimport matplotlib.pyplot as plt\nimport pytransform3d.transformations as pt\nimport pytransform3d.plot_utils as ppu\nfrom distance3d.distance import point_to_box\nfrom distance3d import random, plotting\n\n\nrandom_state = np.random.RandomState(2)\nbox2origin, size = random.rand_box(random_state, center_scale=0.1, size_scale=4.0)\n\nax = ppu.make_3d_axis(ax_s=3)\n\naccumulated_time = 0.0\nfor i in range(21000):\n    point = random.randn_point(random_state) * 2\n    start = time.time()\n    dist, closest_point = point_to_box(point, box2origin, size)\n    end = time.time()\n    accumulated_time += end - start\n    print(dist)\n    if i > 10:\n        continue\n    plotting.plot_segment(ax, point, closest_point, lw=1)\nprint(f\"{accumulated_time=}\")\n\nppu.plot_box(ax=ax, A2B=box2origin, size=size, wireframe=False, alpha=0.5)\npt.plot_transform(ax=ax, A2B=box2origin, s=0.1)\nplt.show()"
      ]
    }
  ],
  "metadata": {
    "kernelspec": {
      "display_name": "Python 3",
      "language": "python",
      "name": "python3"
    },
    "language_info": {
      "codemirror_mode": {
        "name": "ipython",
        "version": 3
      },
      "file_extension": ".py",
      "mimetype": "text/x-python",
      "name": "python",
      "nbconvert_exporter": "python",
      "pygments_lexer": "ipython3",
      "version": "3.8.8"
    }
  },
  "nbformat": 4,
  "nbformat_minor": 0
}