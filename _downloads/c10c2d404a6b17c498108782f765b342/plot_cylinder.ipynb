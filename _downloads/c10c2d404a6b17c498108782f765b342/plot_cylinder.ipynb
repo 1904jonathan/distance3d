{
  "cells": [
    {
      "cell_type": "code",
      "execution_count": null,
      "metadata": {
        "collapsed": false
      },
      "outputs": [],
      "source": [
        "%matplotlib inline"
      ]
    },
    {
      "cell_type": "markdown",
      "metadata": {},
      "source": [
        "\n# Distance between cylinders with GJK\n"
      ]
    },
    {
      "cell_type": "code",
      "execution_count": null,
      "metadata": {
        "collapsed": false
      },
      "outputs": [],
      "source": [
        "print(__doc__)\nimport time\nimport numpy as np\nimport matplotlib.pyplot as plt\nimport pytransform3d.plot_utils as ppu\nfrom distance3d import gjk, colliders\nfrom distance3d import random\nfrom distance3d import plotting\n\n\nrandom_state = np.random.RandomState(1)\ncylinder2origin, radius, length = random.rand_cylinder(random_state, 0.5, 1.0, 0.0)\n\nax = ppu.make_3d_axis(ax_s=2)\n\naccumulated_time = 0.0\nfor i in range(700):\n    cylinder2origin2, radius2, length2 = random.rand_cylinder(random_state)\n    start = time.time()\n    c1 = colliders.Cylinder(cylinder2origin, radius, length)\n    c2 = colliders.Cylinder(cylinder2origin2, radius2, length2)\n    dist, closest_point_cylinder, closest_point_cylinder2, _ = gjk.gjk(c1, c2)\n    end = time.time()\n    accumulated_time += end - start\n    print(dist)\n    if i > 5:\n        continue\n    plotting.plot_segment(\n        ax, closest_point_cylinder, closest_point_cylinder2, c=\"k\", lw=1)\n    ppu.plot_cylinder(ax, A2B=cylinder2origin2, radius=radius2, length=length2,\n                      wireframe=False, color=\"b\", alpha=0.2)\nprint(f\"{accumulated_time=}\")\n\nppu.plot_cylinder(ax, A2B=cylinder2origin, radius=radius, length=length,\n                  wireframe=False, alpha=0.5)\nplt.show()"
      ]
    }
  ],
  "metadata": {
    "kernelspec": {
      "display_name": "Python 3",
      "language": "python",
      "name": "python3"
    },
    "language_info": {
      "codemirror_mode": {
        "name": "ipython",
        "version": 3
      },
      "file_extension": ".py",
      "mimetype": "text/x-python",
      "name": "python",
      "nbconvert_exporter": "python",
      "pygments_lexer": "ipython3",
      "version": "3.8.8"
    }
  },
  "nbformat": 4,
  "nbformat_minor": 0
}