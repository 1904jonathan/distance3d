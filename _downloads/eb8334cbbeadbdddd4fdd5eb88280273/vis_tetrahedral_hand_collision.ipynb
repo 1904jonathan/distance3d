{
  "cells": [
    {
      "cell_type": "code",
      "execution_count": null,
      "metadata": {
        "collapsed": false
      },
      "outputs": [],
      "source": [
        "%matplotlib inline"
      ]
    },
    {
      "cell_type": "markdown",
      "metadata": {},
      "source": [
        "\n# Physical Simulation of Bouncing Ball on Hand\n"
      ]
    },
    {
      "cell_type": "code",
      "execution_count": null,
      "metadata": {
        "collapsed": false
      },
      "outputs": [],
      "source": [
        "print(__doc__)\n\nimport os\nfrom pytransform3d.urdf import UrdfTransformManager\nimport numpy as np\nimport pytransform3d.visualizer as pv\nfrom distance3d import hydroelastic_contact\nfrom distance3d.hydroelastic_contact import HydroelasticBoundingVolumeHierarchy\n\ndt = 0.001\ng = np.array([9.81, 0, 0])\n\nfig = pv.figure()\n\nclass PhysicsObject:\n    def __init__(self, rigid_body, artist, mass, velocity, fixed=False):\n        self.rigid_body = rigid_body\n        self.fixed = fixed\n\n        self.mass = mass\n\n        self.acceleration = np.zeros(3, dtype=float)\n        self.velocity = velocity\n        self.artist_ = artist\n        self.forces = []\n\n    def step(self):\n        if self.fixed:\n            self.forces = []\n            return\n\n        gravity_force = g * self.mass\n        self.forces.append(gravity_force)\n\n        self.acceleration = np.add.reduce(self.forces) / self.mass\n        self.velocity += dt * self.acceleration\n        self.rigid_body.body2origin_[:3, 3] += self.velocity * dt\n        self.artist_.set_data(self.rigid_body.body2origin_, self.rigid_body.vertices_,\n                              self.rigid_body.tetrahedra_)\n\n        self.forces = []\n\n\nclass AnimationCallback:\n    def __init__(self, p_objects):\n        self.p_objects = p_objects\n        self.artists = []\n        for p_object in p_objects:\n            self.artists.append(p_object.artist_)\n\n    def __call__(self, step):\n        global xs, ys\n        for i in range(len(self.p_objects)):\n            for j in range(i + 1, len(self.p_objects)):\n                intersection, wrench12, wrench21, details = hydroelastic_contact.contact_forces(\n                    self.p_objects[i].rigid_body, self.p_objects[j].rigid_body, return_details=True)\n\n                if intersection:\n                    self.p_objects[i].forces.append(wrench21[:3])\n                    self.p_objects[j].forces.append(wrench12[:3])\n\n            self.p_objects[i].step()\n\n            sum_vel = 0\n            sum_acc = 0\n            for p_object in self.p_objects:\n                o_vel = np.sqrt(p_object.velocity[0] * p_object.velocity[0]\n                                + p_object.velocity[1] * p_object.velocity[1]\n                                + p_object.velocity[2] * p_object.velocity[2])\n                o_acc = np.sqrt(p_object.acceleration[0] * p_object.acceleration[0]\n                                + p_object.acceleration[1] * p_object.acceleration[1]\n                                + p_object.acceleration[2] * p_object.acceleration[2])\n                sum_vel += o_vel\n                sum_acc += o_acc\n\n\n\n        return self.artists\n\n\nGPa = 100000000\n\nBASE_DIR = \"test/data/\"\ndata_dir = BASE_DIR\nsearch_path = \"..\"\nwhile (not os.path.exists(data_dir) and\n       os.path.dirname(search_path) != \"distance3d\"):\n    search_path = os.path.join(search_path, \"..\")\n    data_dir = os.path.join(search_path, BASE_DIR)\n\ntm = UrdfTransformManager()\nfilename = os.path.join(data_dir, \"mia_hand.urdf\")\nwith open(filename, \"r\") as f:\n    robot_urdf = f.read()\n    tm.load_urdf(robot_urdf, mesh_path=data_dir)\n\nrobot_bvh = HydroelasticBoundingVolumeHierarchy(tm, \"mia_hand\")\nrobot_bvh.fill_tree_with_colliders(tm, make_artists=True)\n\nfor rb in robot_bvh.get_colliders():\n    rb.youngs_modulus = 100 * GPa\n\nrb = hydroelastic_contact.RigidBody.make_sphere(np.array([-0.1, 0.01, 0.0]), 0.02, 1)\nrb.youngs_modulus = 100 * GPa\n\np_objects = []\nfor collider in robot_bvh.get_colliders():\n    p_objects.append(PhysicsObject(collider, collider.artist_, 100, np.array([0.0, 0.0, 0.0]), True))\n    collider.artist_.add_artist(fig)\n\np_objects.append(PhysicsObject(rb, rb.artist_, 100, np.array([0.0, 0.0, 0.0]), False))\nrb.artist_.add_artist(fig)\n\nfig.view_init()\n\nif \"__file__\" in globals():\n    fig.animate(AnimationCallback(p_objects), 500, loop=True)\n    fig.show()\nelse:\n    fig.save_image(\"__open3d_rendered_image.jpg\")"
      ]
    }
  ],
  "metadata": {
    "kernelspec": {
      "display_name": "Python 3",
      "language": "python",
      "name": "python3"
    },
    "language_info": {
      "codemirror_mode": {
        "name": "ipython",
        "version": 3
      },
      "file_extension": ".py",
      "mimetype": "text/x-python",
      "name": "python",
      "nbconvert_exporter": "python",
      "pygments_lexer": "ipython3",
      "version": "3.9.13"
    }
  },
  "nbformat": 4,
  "nbformat_minor": 0
}