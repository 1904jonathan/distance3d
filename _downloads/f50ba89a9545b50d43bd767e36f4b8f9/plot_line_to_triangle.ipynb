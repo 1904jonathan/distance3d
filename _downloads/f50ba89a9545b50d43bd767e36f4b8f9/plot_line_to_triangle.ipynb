{
  "cells": [
    {
      "cell_type": "code",
      "execution_count": null,
      "metadata": {
        "collapsed": false
      },
      "outputs": [],
      "source": [
        "%matplotlib inline"
      ]
    },
    {
      "cell_type": "markdown",
      "metadata": {},
      "source": [
        "\n# Distance from line to triangle\n"
      ]
    },
    {
      "cell_type": "code",
      "execution_count": null,
      "metadata": {
        "collapsed": false
      },
      "outputs": [],
      "source": [
        "print(__doc__)\nimport time\nimport numpy as np\nimport matplotlib.pyplot as plt\nimport pytransform3d.plot_utils as ppu\nfrom distance3d.distance import line_to_triangle\nfrom distance3d import random, plotting\n\n\nrandom_state = np.random.RandomState(8)\ntriangle_points = random.randn_triangle(random_state)\n\nax = ppu.make_3d_axis(ax_s=5)\n\naccumulated_time = 0.0\nfor i in range(7500):\n    line_point, line_direction = random.randn_line(random_state, scale=3.0)\n    start = time.time()\n    dist, contact_point_line, contact_point_triangle = line_to_triangle(\n        line_point, line_direction, triangle_points)\n    end = time.time()\n    accumulated_time += end - start\n    print(dist)\n    if i > 3:\n        continue\n    plotting.plot_segment(\n        ax, contact_point_line, contact_point_triangle, c=\"k\", lw=1)\n    plotting.plot_line(ax, line_point, line_direction)\nprint(f\"{accumulated_time=}\")\n\nplotting.plot_triangle(ax, triangle_points)\nplt.show()"
      ]
    }
  ],
  "metadata": {
    "kernelspec": {
      "display_name": "Python 3",
      "language": "python",
      "name": "python3"
    },
    "language_info": {
      "codemirror_mode": {
        "name": "ipython",
        "version": 3
      },
      "file_extension": ".py",
      "mimetype": "text/x-python",
      "name": "python",
      "nbconvert_exporter": "python",
      "pygments_lexer": "ipython3",
      "version": "3.8.8"
    }
  },
  "nbformat": 4,
  "nbformat_minor": 0
}