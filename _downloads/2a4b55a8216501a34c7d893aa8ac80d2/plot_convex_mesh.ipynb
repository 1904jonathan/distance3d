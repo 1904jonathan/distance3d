{
  "cells": [
    {
      "cell_type": "code",
      "execution_count": null,
      "metadata": {
        "collapsed": false
      },
      "outputs": [],
      "source": [
        "%matplotlib inline"
      ]
    },
    {
      "cell_type": "markdown",
      "metadata": {},
      "source": [
        "\n# Distance between convex meshes with GJK\n"
      ]
    },
    {
      "cell_type": "code",
      "execution_count": null,
      "metadata": {
        "collapsed": false
      },
      "outputs": [],
      "source": [
        "print(__doc__)\nimport time\nimport numpy as np\nimport matplotlib.pyplot as plt\nimport pytransform3d.transformations as pt\nimport pytransform3d.plot_utils as ppu\nfrom distance3d import random, plotting, gjk, colliders\n\n\nrandom_state = np.random.RandomState(0)\nmesh2origin, vertices, triangles = random.randn_convex(random_state, center_scale=0.0)\npoints = pt.transform(mesh2origin, pt.vectors_to_points(vertices))[:, :3]\n\nax = ppu.make_3d_axis(ax_s=12)\n\naccumulated_time = 0.0\nfor i in range(4000):\n    mesh2origin2, vertices2, triangles2 = random.randn_convex(random_state, center_scale=10.0)\n    points2 = pt.transform(mesh2origin2, pt.vectors_to_points(vertices2))[:, :3]\n    start = time.time()\n    dist, p1, p2, _ = gjk.gjk(colliders.ConvexHullVertices(points), colliders.ConvexHullVertices(points2))\n    end = time.time()\n    accumulated_time += end - start\n    print(dist)\n    if i > 20:\n        continue\n    plotting.plot_segment(ax, p1, p2, c=\"k\", lw=1)\n    plotting.plot_convex(ax, mesh2origin2, vertices2, triangles2)\nprint(f\"{accumulated_time=}\")\n\nplotting.plot_convex(ax, mesh2origin, vertices, triangles)\nplt.show()"
      ]
    }
  ],
  "metadata": {
    "kernelspec": {
      "display_name": "Python 3",
      "language": "python",
      "name": "python3"
    },
    "language_info": {
      "codemirror_mode": {
        "name": "ipython",
        "version": 3
      },
      "file_extension": ".py",
      "mimetype": "text/x-python",
      "name": "python",
      "nbconvert_exporter": "python",
      "pygments_lexer": "ipython3",
      "version": "3.9.13"
    }
  },
  "nbformat": 4,
  "nbformat_minor": 0
}