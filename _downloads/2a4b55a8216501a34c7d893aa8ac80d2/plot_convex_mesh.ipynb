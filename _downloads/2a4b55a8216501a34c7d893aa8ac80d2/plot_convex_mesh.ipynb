{
  "cells": [
    {
      "cell_type": "code",
      "execution_count": null,
      "metadata": {
        "collapsed": false
      },
      "outputs": [],
      "source": [
        "%matplotlib inline"
      ]
    },
    {
      "cell_type": "markdown",
      "metadata": {},
      "source": [
        "\n# Distance between convex meshes with GJK\n"
      ]
    },
    {
      "cell_type": "code",
      "execution_count": null,
      "metadata": {
        "collapsed": false
      },
      "outputs": [],
      "source": [
        "print(__doc__)\nimport time\nimport numpy as np\nimport matplotlib.pyplot as plt\nimport pytransform3d.plot_utils as ppu\nfrom distance3d import random, plotting, gjk\n\n\nrandom_state = np.random.RandomState(0)\nvertices, faces = random.randn_convex(random_state, center_scale=0.0)\n\n\nax = ppu.make_3d_axis(ax_s=12)\n\naccumulated_time = 0.0\nfor i in range(4000):\n    vertices2, faces2 = random.randn_convex(random_state, center_scale=10.0)\n    start = time.time()\n    dist, p1, p2 = gjk.gjk(vertices, vertices2)\n    end = time.time()\n    accumulated_time += end - start\n    print(dist)\n    if i > 20:\n        continue\n    plotting.plot_segment(ax, p1, p2, c=\"k\", lw=1)\n    plotting.plot_convex(ax, vertices2, faces2)\nprint(f\"{accumulated_time=}\")\n\nplotting.plot_convex(ax, vertices, faces)\nplt.show()"
      ]
    }
  ],
  "metadata": {
    "kernelspec": {
      "display_name": "Python 3",
      "language": "python",
      "name": "python3"
    },
    "language_info": {
      "codemirror_mode": {
        "name": "ipython",
        "version": 3
      },
      "file_extension": ".py",
      "mimetype": "text/x-python",
      "name": "python",
      "nbconvert_exporter": "python",
      "pygments_lexer": "ipython3",
      "version": "3.8.8"
    }
  },
  "nbformat": 4,
  "nbformat_minor": 0
}