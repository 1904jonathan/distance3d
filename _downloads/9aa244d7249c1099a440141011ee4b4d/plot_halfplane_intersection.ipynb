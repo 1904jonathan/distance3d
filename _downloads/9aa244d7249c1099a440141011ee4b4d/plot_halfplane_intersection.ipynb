{
  "cells": [
    {
      "cell_type": "code",
      "execution_count": null,
      "metadata": {
        "collapsed": false
      },
      "outputs": [],
      "source": [
        "%matplotlib inline"
      ]
    },
    {
      "cell_type": "markdown",
      "metadata": {},
      "source": [
        "\n# Halfplane Intersection\n"
      ]
    },
    {
      "cell_type": "code",
      "execution_count": null,
      "metadata": {
        "collapsed": false
      },
      "outputs": [],
      "source": [
        "print(__doc__)\n\nimport numpy as np\nfrom distance3d import hydroelastic_contact, benchmark\n\n\nfrom distance3d.hydroelastic_contact._halfplanes import intersect_two_halfplanes, point_outside_of_halfplane, cross2d\ndef intersect_halfplanes(halfplanes):\n    # source: https://cp-algorithms.com/geometry/halfplane-intersection.html#direct-implementation\n    angles = np.arctan2(halfplanes[:, 3], halfplanes[:, 2])\n    halfplanes = halfplanes[np.argsort(angles)]\n\n    result = []\n    for hp in halfplanes:\n        while len(result) >= 2:\n            p = intersect_two_halfplanes(result[-2], result[-1])\n            if p is not None and point_outside_of_halfplane(hp, p):\n                del result[-1]\n            else:\n                break\n        while len(result) >= 2:\n            p = intersect_two_halfplanes(result[0], result[1])\n            if p is not None and point_outside_of_halfplane(hp, p):\n                del result[0]\n            else:\n                break\n\n        parallel_halfplanes = len(result) > 0 and abs(cross2d(result[-1][2:], hp[2:])) < 1e-6\n        if parallel_halfplanes:\n            opposite = np.dot(hp[2:], result[-1][2:]) < 0.0\n            if opposite:\n                return None\n            new_halfplane_leftmost = point_outside_of_halfplane(hp, result[-1][:2])\n            if new_halfplane_leftmost:\n                del result[-1]\n                result.append(hp)\n            else:\n                continue\n        else:\n            result.append(hp)\n\n    while len(result) >= 3:\n        p = intersect_two_halfplanes(result[-2], result[-1])\n        assert p is not None\n        if point_outside_of_halfplane(result[0], p):\n            del result[-1]\n        else:\n            break\n\n    while len(result) >= 3:\n        p = intersect_two_halfplanes(result[0], result[1])\n        assert p is not None\n        if point_outside_of_halfplane(result[-1], p):\n            del result[0]\n        else:\n            break\n\n    if len(result) < 3:\n        return None\n    else:\n        polygon = [\n            intersect_two_halfplanes(result[i], result[(i + 1) % len(result)])\n            for i in range(len(result))]\n        return polygon\n\n\nrandom_state = np.random.RandomState(0)\nn_halfplanes = 10\nx = random_state.rand(n_halfplanes) * 2.0 * np.pi\np = np.column_stack((np.cos(x), np.sin(x)))\np += random_state.rand(*p.shape) * 0.1\nangles = np.arctan2(p[:, 1], p[:, 0])\np = p[np.argsort(angles)]\npq = p[np.arange(n_halfplanes)] - p[np.arange(n_halfplanes) - 1]\nhalfplanes = np.hstack((p, pq))\n\ntimer = benchmark.Timer()\ntimer.start(\"hydroelastic_contact.intersect_halfplanes\")\npolygon = np.asarray(hydroelastic_contact.intersect_halfplanes(halfplanes))\nprint(f\"{timer.stop('hydroelastic_contact.intersect_halfplanes')} s\")\nprint(polygon)\ntimer.start(\"intersect_halfplanes\")\npolygon2 = np.asarray(intersect_halfplanes(halfplanes))\nprint(f\"{timer.stop('intersect_halfplanes')} s\")\nprint(polygon2)\nhydroelastic_contact.plot_halfplanes_and_intersections(\n    halfplanes, polygon, xlim=(-2, 2), ylim=(-2, 2))\nhydroelastic_contact.plot_halfplanes_and_intersections(\n    halfplanes, polygon2, xlim=(-2, 2), ylim=(-2, 2))"
      ]
    }
  ],
  "metadata": {
    "kernelspec": {
      "display_name": "Python 3",
      "language": "python",
      "name": "python3"
    },
    "language_info": {
      "codemirror_mode": {
        "name": "ipython",
        "version": 3
      },
      "file_extension": ".py",
      "mimetype": "text/x-python",
      "name": "python",
      "nbconvert_exporter": "python",
      "pygments_lexer": "ipython3",
      "version": "3.9.13"
    }
  },
  "nbformat": 4,
  "nbformat_minor": 0
}