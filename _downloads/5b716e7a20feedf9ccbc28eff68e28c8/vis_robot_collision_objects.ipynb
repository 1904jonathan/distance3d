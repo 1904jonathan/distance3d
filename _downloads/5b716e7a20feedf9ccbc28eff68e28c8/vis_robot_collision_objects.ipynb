{
  "cells": [
    {
      "cell_type": "code",
      "execution_count": null,
      "metadata": {
        "collapsed": false
      },
      "outputs": [],
      "source": [
        "%matplotlib inline"
      ]
    },
    {
      "cell_type": "markdown",
      "metadata": {},
      "source": [
        "\n# Collisions between robot and environment\n"
      ]
    },
    {
      "cell_type": "code",
      "execution_count": null,
      "metadata": {
        "collapsed": false
      },
      "outputs": [],
      "source": [
        "print(__doc__)\n\nimport os\nimport time\nimport numpy as np\nimport open3d as o3d\nfrom pytransform3d.urdf import UrdfTransformManager\nimport pytransform3d.visualizer as pv\nfrom distance3d import random, colliders, gjk, mpr, broad_phase\nfrom distance3d.aabb_tree import all_aabbs_overlap\n\n\nclass AnimationCallback:\n    def __init__(self, with_aabb_tree=True, collision_detection_algorithm=\"mpr\",\n                 n_frames=100, verbose=0):\n        self.with_aabb_tree = with_aabb_tree\n        self.collision_detection_algorithm = collision_detection_algorithm\n        self.n_frames = n_frames\n        self.verbose = verbose\n        self.total_time = 0.0\n\n    def __call__(self, step, n_frames, tm, robot_bvh, world_bvh, joint_names):\n        if step == 0:\n            self.total_time = 0.0\n\n        angle = 0.5 * np.cos(2.0 * np.pi * (step / n_frames))\n        for joint_name in joint_names:\n            tm.set_joint(joint_name, angle)\n        robot_bvh.update_collider_poses()\n\n        in_contact = {frame: False for frame in robot_bvh.get_collider_frames()}\n        in_aabb = {frame: False for frame in robot_bvh.get_collider_frames()}\n\n        if self.collision_detection_algorithm == \"gjk\":\n            detect_collision = lambda x, y: gjk.gjk(x, y)[0] < 1e-6\n        elif self.collision_detection_algorithm == \"mpr\":\n            detect_collision = mpr.mpr_intersection\n        elif self.collision_detection_algorithm == \"gjk_intersection\":\n            detect_collision = gjk.gjk_intersection\n        else:\n            raise ValueError(\n                f\"Unknown collision detection algorithm \"\n                f\"'{self.collision_detection_algorithm}'. Allowed values are: \"\n                f\"'gjk', 'mpr'\")\n\n        total_time = 0.0\n        if self.with_aabb_tree:\n\n            start = time.time()\n            pairs = robot_bvh.aabb_overlapping_with_other_bvh(world_bvh)\n            for pair in pairs:\n                frame, collider = pair[0]\n                _, box = pair[1]\n\n                in_aabb[frame] |= True\n                in_contact[frame] |= detect_collision(collider, box)\n\n            stop = time.time()\n            total_time += stop - start\n\n            if self.verbose:\n                print(f\"With AABBTree: {total_time}\")\n        else:\n            start = time.time()\n\n            aabbs1 = []\n            robot_coll_list = list(robot_bvh.colliders_.items())\n            for frame, collider in robot_coll_list:\n                aabbs1.append(collider.aabb())\n\n            aabbs2 = []\n            world_coll_list = list(world_bvh.colliders_.items())\n            for _, box in world_coll_list:\n                aabbs2.append(box.aabb())\n\n            _, _, pairs = all_aabbs_overlap(aabbs1, aabbs2)\n\n            for pair in pairs:\n                frame, collider = robot_coll_list[pair[0]]\n                _, box = world_coll_list[pair[1]]\n\n                in_aabb[frame] |= True\n                in_contact[frame] |= detect_collision(collider, box)\n\n            stop = time.time()\n            total_time += stop - start\n\n            if self.verbose:\n                print(f\"Without AABBTree: {total_time}\")\n\n        self.total_time += total_time\n\n        for frame in in_contact:\n            geometry = robot_bvh.colliders_[frame].artist_.geometries[0]\n            if in_contact[frame]:\n                geometry.paint_uniform_color((1, 0, 0))\n            elif in_aabb[frame]:\n                geometry.paint_uniform_color((1, 0.5, 0))\n            else:\n                geometry.paint_uniform_color((0.5, 0.5, 0.5))\n\n        if step == self.n_frames - 1:\n            print(f\"Total time: {self.total_time}\")\n\n        return robot_bvh.get_artists()\n\n\nBASE_DIR = \"test/data/\"\ndata_dir = BASE_DIR\nsearch_path = \"..\"\nwhile (not os.path.exists(data_dir) and\n       os.path.dirname(search_path) != \"distance3d\"):\n    search_path = os.path.join(search_path, \"..\")\n    data_dir = os.path.join(search_path, BASE_DIR)\n\ntm = UrdfTransformManager()\nfilename = os.path.join(data_dir, \"robot.urdf\")\nwith open(filename, \"r\") as f:\n    robot_urdf = f.read()\n    tm.load_urdf(robot_urdf, mesh_path=data_dir)\njoint_names = [\"joint%d\" % i for i in range(1, 7)]\nfor joint_name in joint_names:\n    tm.set_joint(joint_name, 0.7)\n\nrobot_bvh = broad_phase.BoundingVolumeHierarchy(tm, \"robot_arm\")\nrobot_bvh.fill_tree_with_colliders(tm, make_artists=True)\n\nworld_bvh = broad_phase.BoundingVolumeHierarchy(tm, \"world\")\n\nrandom_state = np.random.RandomState(5)\n\nfig = pv.figure()\n\nfor i in range(50):\n    box2origin, size = random.rand_box(\n        random_state, center_scale=0.5, size_scale=0.3)\n    box2origin[:3, 3] += 0.2\n    color = random_state.rand(3)\n    box_artist = pv.Box(size=size, A2B=box2origin, c=color)\n    box_artist.add_artist(fig)\n    box = colliders.Margin(\n        colliders.Box(box2origin, size, artist=box_artist), 0.03)\n    world_bvh.add_collider(\"Box %s\" % i, box)\n\n    aabb = box.aabb()\n    aabb = o3d.geometry.AxisAlignedBoundingBox(aabb[:, 0], aabb[:, 1])\n    aabb.color = (1, 0, 0)\n    fig.add_geometry(aabb)\n\nfor artist in robot_bvh.get_artists():\n    artist.add_artist(fig)\nfig.view_init()\nfig.set_zoom(1.5)\nn_frames = 100\nanimation_callback = AnimationCallback(\n    with_aabb_tree=True,\n    collision_detection_algorithm=\"gjk_intersection\",  # mpr, gjk, or gjk_intersection\n    n_frames=n_frames, verbose=0)\nif \"__file__\" in globals():\n    fig.animate(animation_callback, n_frames, loop=True,\n                fargs=(n_frames, tm, robot_bvh, world_bvh, joint_names))\n    fig.show()\nelse:\n    fig.save_image(\"__open3d_rendered_image.jpg\")"
      ]
    }
  ],
  "metadata": {
    "kernelspec": {
      "display_name": "Python 3",
      "language": "python",
      "name": "python3"
    },
    "language_info": {
      "codemirror_mode": {
        "name": "ipython",
        "version": 3
      },
      "file_extension": ".py",
      "mimetype": "text/x-python",
      "name": "python",
      "nbconvert_exporter": "python",
      "pygments_lexer": "ipython3",
      "version": "3.9.13"
    }
  },
  "nbformat": 4,
  "nbformat_minor": 0
}