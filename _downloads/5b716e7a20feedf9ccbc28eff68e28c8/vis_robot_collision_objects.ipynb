{
  "cells": [
    {
      "cell_type": "code",
      "execution_count": null,
      "metadata": {
        "collapsed": false
      },
      "outputs": [],
      "source": [
        "%matplotlib inline"
      ]
    },
    {
      "cell_type": "markdown",
      "metadata": {},
      "source": [
        "\n# Collisions between robot and environment\n"
      ]
    },
    {
      "cell_type": "code",
      "execution_count": null,
      "metadata": {
        "collapsed": false
      },
      "outputs": [],
      "source": [
        "print(__doc__)\nimport os\nimport time\nimport numpy as np\nimport open3d as o3d\nfrom pytransform3d.urdf import UrdfTransformManager\nimport pytransform3d.visualizer as pv\nfrom distance3d import random, colliders, gjk\n\n\nclass AnimationCallback:\n    def __init__(self, with_aabb_tree=True, n_frames=100, verbose=0):\n        self.with_aabb_tree = with_aabb_tree\n        self.n_frames = n_frames\n        self.verbose = verbose\n        self.total_time = 0.0\n\n    def __call__(self, step, n_frames, tm, colls, boxes, joint_names):\n        if step == 0:\n            self.total_time = 0.0\n\n        angle = 0.5 * np.cos(2.0 * np.pi * (step / n_frames))\n        for joint_name in joint_names:\n            tm.set_joint(joint_name, angle)\n        colls.update_collider_poses()\n\n        in_contact = {frame: False for frame in colls.get_collider_frames()}\n        in_aabb = {frame: False for frame in colls.get_collider_frames()}\n\n        total_time = 0.0\n        if self.with_aabb_tree:\n            for box in boxes:\n                start = time.time()\n                overlapping_colls = colls.aabb_overlapping_colliders(\n                    box).items()\n                for frame, collider in overlapping_colls:\n                    dist = gjk.gjk_with_simplex(collider, box)[0]\n                    in_aabb[frame] |= True\n                    in_contact[frame] |= dist < 1e-6\n                stop = time.time()\n                total_time += stop - start\n            if self.verbose:\n                print(f\"With AABBTree: {total_time}\")\n        else:\n            for frame, collider in colls.colliders_.items():\n                start = time.time()\n                for box in boxes:\n                    dist = gjk.gjk_with_simplex(collider, box)[0]\n                    in_contact[frame] |= dist < 1e-6\n                stop = time.time()\n                total_time += stop - start\n            if self.verbose:\n                print(f\"Without AABBTree: {total_time}\")\n\n        self.total_time += total_time\n\n        for frame in in_contact:\n            geometry = colls.colliders_[frame].artist_.geometries[0]\n            if in_contact[frame]:\n                geometry.paint_uniform_color((1, 0, 0))\n            elif in_aabb[frame]:\n                geometry.paint_uniform_color((1, 0.5, 0))\n            else:\n                geometry.paint_uniform_color((0.5, 0.5, 0.5))\n\n        if step == self.n_frames - 1:\n            print(f\"Total time: {self.total_time}\")\n\n        return colls.get_artists()\n\n\nBASE_DIR = \"test/data/\"\ndata_dir = BASE_DIR\nsearch_path = \"..\"\nwhile (not os.path.exists(data_dir) and\n       os.path.dirname(search_path) != \"distance3d\"):\n    search_path = os.path.join(search_path, \"..\")\n    data_dir = os.path.join(search_path, BASE_DIR)\n\ntm = UrdfTransformManager()\nfilename = os.path.join(data_dir, \"robot.urdf\")\nwith open(filename, \"r\") as f:\n    robot_urdf = f.read()\n    tm.load_urdf(robot_urdf, mesh_path=data_dir)\njoint_names = [\"joint%d\" % i for i in range(1, 7)]\nfor joint_name in joint_names:\n    tm.set_joint(joint_name, 0.7)\n\ncolls = colliders.BoundingVolumeHierarchy(tm, \"robot_arm\")\ncolls.fill_tree_with_colliders(tm, make_artists=True)\n\nrandom_state = np.random.RandomState(5)\n\nfig = pv.figure()\n\nboxes = []\nfor _ in range(15):\n    box2origin, size = random.rand_box(\n        random_state, center_scale=0.3, size_scale=0.3)\n    box2origin[:3, 3] += 0.2\n    color = random_state.rand(3)\n    box_artist = pv.Box(size=size, A2B=box2origin, c=color)\n    box_artist.add_artist(fig)\n    box = colliders.Box(box2origin, size, artist=box_artist)\n    boxes.append(box)\n\n    aabb = box.aabb()\n    aabb = o3d.geometry.AxisAlignedBoundingBox(aabb[:, 0], aabb[:, 1])\n    aabb.color = (1, 0, 0)\n    fig.add_geometry(aabb)\n\nfor artist in colls.get_artists():\n    artist.add_artist(fig)\nfig.view_init()\nfig.set_zoom(1.5)\nn_frames = 100\nanimation_callback = AnimationCallback(\n    with_aabb_tree=True, n_frames=n_frames, verbose=0)\nif \"__file__\" in globals():\n    fig.animate(animation_callback, n_frames, loop=True,\n                fargs=(n_frames, tm, colls, boxes, joint_names))\n    fig.show()\nelse:\n    fig.save_image(\"__open3d_rendered_image.jpg\")"
      ]
    }
  ],
  "metadata": {
    "kernelspec": {
      "display_name": "Python 3",
      "language": "python",
      "name": "python3"
    },
    "language_info": {
      "codemirror_mode": {
        "name": "ipython",
        "version": 3
      },
      "file_extension": ".py",
      "mimetype": "text/x-python",
      "name": "python",
      "nbconvert_exporter": "python",
      "pygments_lexer": "ipython3",
      "version": "3.8.8"
    }
  },
  "nbformat": 4,
  "nbformat_minor": 0
}