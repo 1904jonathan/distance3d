{
  "cells": [
    {
      "cell_type": "code",
      "execution_count": null,
      "metadata": {
        "collapsed": false
      },
      "outputs": [],
      "source": [
        "%matplotlib inline"
      ]
    },
    {
      "cell_type": "markdown",
      "metadata": {},
      "source": [
        "\n# Visualize Intersection of Tetrahedra\n"
      ]
    },
    {
      "cell_type": "code",
      "execution_count": null,
      "metadata": {
        "collapsed": false
      },
      "outputs": [],
      "source": [
        "print(__doc__)\nimport numpy as np\nimport pytransform3d.visualizer as pv\nfrom distance3d import hydroelastic_contact, visualization\n\n\nvertices1, tetrahedra1, _ = hydroelastic_contact.make_tetrahedral_icosphere(np.array([0.1, 0.2, 0.1]), 1.0, order=2)\nvertices2, tetrahedra2, _ = hydroelastic_contact.make_tetrahedral_icosphere(np.array([0.05, 0.15, 1.6]), 1.0, order=2)\n\ntetrahedron1 = vertices1[tetrahedra1[257]]\ntetrahedron2 = vertices2[tetrahedra2[310]]\n\nepsilon1 = np.array([0.0, 0.0, 0.0, 1.0])\nepsilon2 = np.array([0.0, 0.0, 0.0, 1.0])\n\nX1 = hydroelastic_contact.barycentric_transforms(tetrahedron1[np.newaxis])[0]\nX2 = hydroelastic_contact.barycentric_transforms(tetrahedron2[np.newaxis])[0]\nintersection, contact = hydroelastic_contact.intersect_tetrahedron_pair(\n    tetrahedron1, epsilon1, X1, tetrahedron2, epsilon2, X2)\nassert intersection\ncontact_plane_hnf, contact_polygon = contact\n\nintersection_com, force_vector, _, _ = hydroelastic_contact.compute_contact_force(\n    tetrahedron1, epsilon1, contact_plane_hnf, contact_polygon)\n\nfig = pv.figure()\nfig.scatter(tetrahedron1, s=0.01, c=(1, 0, 0))\nfig.scatter(tetrahedron2, s=0.01, c=(0, 0, 1))\nfig.plot_transform(np.eye(4), s=0.05)\nfig.plot_plane(normal=contact_plane_hnf[:3], d=contact_plane_hnf[3])\nfig.scatter(contact_polygon, s=0.03, c=(1, 0, 1))\nfig.plot_vector(intersection_com, 100.0 * force_vector, c=(1, 0, 0))\nvisualization.Tetrahedron(tetrahedron1).add_artist(fig)\nvisualization.Tetrahedron(tetrahedron2).add_artist(fig)\nfig.view_init()\n\nif \"__file__\" in globals():\n    fig.show()\nelse:\n    fig.save_image(\"__open3d_rendered_image.jpg\")"
      ]
    }
  ],
  "metadata": {
    "kernelspec": {
      "display_name": "Python 3",
      "language": "python",
      "name": "python3"
    },
    "language_info": {
      "codemirror_mode": {
        "name": "ipython",
        "version": 3
      },
      "file_extension": ".py",
      "mimetype": "text/x-python",
      "name": "python",
      "nbconvert_exporter": "python",
      "pygments_lexer": "ipython3",
      "version": "3.8.8"
    }
  },
  "nbformat": 4,
  "nbformat_minor": 0
}