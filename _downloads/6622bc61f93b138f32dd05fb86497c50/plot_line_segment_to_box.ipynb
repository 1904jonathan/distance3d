{
  "cells": [
    {
      "cell_type": "code",
      "execution_count": null,
      "metadata": {
        "collapsed": false
      },
      "outputs": [],
      "source": [
        "%matplotlib inline"
      ]
    },
    {
      "cell_type": "markdown",
      "metadata": {},
      "source": [
        "\n# Distance from line segment to box\n"
      ]
    },
    {
      "cell_type": "code",
      "execution_count": null,
      "metadata": {
        "collapsed": false
      },
      "outputs": [],
      "source": [
        "print(__doc__)\nimport time\nimport numpy as np\nimport matplotlib.pyplot as plt\nimport pytransform3d.plot_utils as ppu\nfrom distance3d.distance import line_segment_to_box\nfrom distance3d import random, plotting\n\n\nrandom_state = np.random.RandomState(2)\nbox2origin = np.eye(4)\nsize = np.ones(3)\n\nax = ppu.make_3d_axis(ax_s=2)\n\naccumulated_time = 0.0\nfor i in range(8000):\n    segment_start, segment_end = random.randn_line_segment(random_state)\n    start = time.time()\n    dist, closest_point_segment, closest_point_box = line_segment_to_box(\n        segment_start, segment_end, box2origin, size)\n    end = time.time()\n    accumulated_time += end - start\n    print(dist)\n    if i > 15:\n        continue\n    plotting.plot_segment(\n        ax, closest_point_segment, closest_point_box, c=\"k\", lw=1)\n    plotting.plot_segment(ax, segment_start, segment_end)\nprint(f\"{accumulated_time=}\")\n\nppu.plot_box(ax=ax, A2B=box2origin, size=size, wireframe=False, alpha=0.5)\nplt.show()"
      ]
    }
  ],
  "metadata": {
    "kernelspec": {
      "display_name": "Python 3",
      "language": "python",
      "name": "python3"
    },
    "language_info": {
      "codemirror_mode": {
        "name": "ipython",
        "version": 3
      },
      "file_extension": ".py",
      "mimetype": "text/x-python",
      "name": "python",
      "nbconvert_exporter": "python",
      "pygments_lexer": "ipython3",
      "version": "3.9.13"
    }
  },
  "nbformat": 4,
  "nbformat_minor": 0
}