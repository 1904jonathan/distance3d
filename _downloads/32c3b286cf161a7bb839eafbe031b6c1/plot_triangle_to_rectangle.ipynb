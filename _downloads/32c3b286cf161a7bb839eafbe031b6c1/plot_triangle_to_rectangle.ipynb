{
  "cells": [
    {
      "cell_type": "code",
      "execution_count": null,
      "metadata": {
        "collapsed": false
      },
      "outputs": [],
      "source": [
        "%matplotlib inline"
      ]
    },
    {
      "cell_type": "markdown",
      "metadata": {},
      "source": [
        "\n# Distance from triangle to rectangle\n"
      ]
    },
    {
      "cell_type": "code",
      "execution_count": null,
      "metadata": {
        "collapsed": false
      },
      "outputs": [],
      "source": [
        "print(__doc__)\nimport time\nimport numpy as np\nimport matplotlib.pyplot as plt\nimport pytransform3d.plot_utils as ppu\nfrom distance3d.distance import triangle_to_rectangle\nfrom distance3d import random, plotting\n\n\nrandom_state = np.random.RandomState(0)\nrectangle_center, rectangle_axes, rectangle_lengths = random.randn_rectangle(\n    random_state, center_scale=0.1, length_scale=5)\n\nax = ppu.make_3d_axis(ax_s=5)\n\naccumulated_time = 0.0\nfor i in range(750):\n    triangle_points = random.randn_triangle(random_state) + 4 * np.sign(np.random.randn(1, 3))\n    start = time.time()\n    dist, closest_point_triangle, closest_point_rectangle = triangle_to_rectangle(\n        triangle_points, rectangle_center, rectangle_axes, rectangle_lengths)\n    end = time.time()\n    accumulated_time += end - start\n    print(dist)\n    if i > 10:\n        continue\n    plotting.plot_segment(\n        ax, closest_point_triangle, closest_point_rectangle, c=\"k\", lw=1)\n    plotting.plot_triangle(ax, triangle_points, surface_alpha=0.8)\nprint(f\"{accumulated_time=}\")\n\nplotting.plot_rectangle(\n    ax, rectangle_center, rectangle_axes, rectangle_lengths, show_axes=True,\n    surface_alpha=0.1)\n\nplt.show()"
      ]
    }
  ],
  "metadata": {
    "kernelspec": {
      "display_name": "Python 3",
      "language": "python",
      "name": "python3"
    },
    "language_info": {
      "codemirror_mode": {
        "name": "ipython",
        "version": 3
      },
      "file_extension": ".py",
      "mimetype": "text/x-python",
      "name": "python",
      "nbconvert_exporter": "python",
      "pygments_lexer": "ipython3",
      "version": "3.8.8"
    }
  },
  "nbformat": 4,
  "nbformat_minor": 0
}