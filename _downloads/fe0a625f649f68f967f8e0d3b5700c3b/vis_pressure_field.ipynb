{
  "cells": [
    {
      "cell_type": "code",
      "execution_count": null,
      "metadata": {
        "collapsed": false
      },
      "outputs": [],
      "source": [
        "%matplotlib inline"
      ]
    },
    {
      "cell_type": "markdown",
      "metadata": {},
      "source": [
        "\n# Visualize Pressure Field of Two Colliding Objects\n"
      ]
    },
    {
      "cell_type": "code",
      "execution_count": null,
      "metadata": {
        "collapsed": false
      },
      "outputs": [],
      "source": [
        "print(__doc__)\n\nimport numpy as np\nimport pytransform3d.visualizer as pv\nfrom distance3d import visualization, hydroelastic_contact, benchmark\n\n\nhighlight_isect_idx = None\nshow_broad_phase = False\n\nrigid_body1 = hydroelastic_contact.RigidBody.make_sphere(0.13 * np.ones(3), 0.15, 2)\nrigid_body2 = hydroelastic_contact.RigidBody.make_sphere(0.25 * np.ones(3), 0.15, 2)\n\nrigid_body1.youngs_modulus = 1.0\nrigid_body2.youngs_modulus = 1.0\n\ntimer = benchmark.Timer()\ntimer.start(\"contact_forces\")\nintersection, wrench12, wrench21, details = hydroelastic_contact.contact_forces(\n    rigid_body1, rigid_body2, return_details=True)\nprint(f\"time: {timer.stop('contact_forces')}\")\n\nassert intersection\n\nprint(f\"force 12: {np.round(wrench12, 8)}\")\nprint(f\"force 21: {np.round(wrench21, 8)}\")\n\nfig = pv.figure()\nfig.plot_transform(np.eye(4), s=0.1)\nvisualization.RigidBodyTetrahedralMesh(\n    rigid_body1.body2origin_, rigid_body1.vertices_, rigid_body1.tetrahedra_).add_artist(fig)\nvisualization.RigidBodyTetrahedralMesh(\n    rigid_body2.body2origin_, rigid_body2.vertices_, rigid_body2.tetrahedra_).add_artist(fig)\n\nif show_broad_phase:\n    _, broad_tetrahedra1, broad_tetrahedra2, broad_pairs \\\n        = rigid_body1.aabb_tree.overlaps_aabb_tree(rigid_body2.aabb_tree)\n    for i in np.unique(broad_tetrahedra1):\n        tetrahedron_points1 = rigid_body1.tetrahedra_points[i].dot(\n            rigid_body1.body2origin_[:3, :3].T) + rigid_body1.body2origin_[:3, 3]\n        visualization.Tetrahedron(tetrahedron_points1, c=(1, 0, 0)).add_artist(fig)\n    for j in np.unique(broad_tetrahedra2):\n        tetrahedron_points2 = rigid_body2.tetrahedra_points[j].dot(\n            rigid_body2.body2origin_[:3, :3].T) + rigid_body2.body2origin_[:3, 3]\n        visualization.Tetrahedron(tetrahedron_points2, c=(1, 0, 0)).add_artist(fig)\n\nif highlight_isect_idx is not None:\n    fig.plot_plane(normal=details[\"contact_planes\"][highlight_isect_idx, :3],\n                   d=details[\"contact_planes\"][highlight_isect_idx, -1], s=0.15)\n    fig.scatter(details[\"contact_polygons\"][highlight_isect_idx], s=0.001, c=(1, 0, 1))\n    fig.scatter(details[\"intersecting_tetrahedra1\"][highlight_isect_idx], s=0.001, c=(1, 0, 0))\n    fig.scatter(details[\"intersecting_tetrahedra2\"][highlight_isect_idx], s=0.001, c=(0, 0, 1))\n    fig.scatter([details[\"contact_coms\"][highlight_isect_idx]], s=0.002, c=(1, 0, 1))\n    # visualization.Tetrahedron(details[\"intersecting_tetrahedra1\"][highlight_isect_idx]).add_artist(fig)\n    # visualization.Tetrahedron(details[\"intersecting_tetrahedra2\"][highlight_isect_idx]).add_artist(fig)\n\nfig.plot_vector(details[\"contact_point\"], 100 * wrench21[:3], (1, 0, 0))\nfig.plot_vector(details[\"contact_point\"], 100 * wrench12[:3], (0, 1, 0))\n\ncontact_surface = visualization.ContactSurface(\n    np.eye(4), details[\"contact_polygons\"],\n    details[\"contact_polygon_triangles\"], details[\"pressures\"])\ncontact_surface.add_artist(fig)\n\nfig.view_init()\n\nif \"__file__\" in globals():\n    fig.show()\nelse:\n    fig.save_image(\"__open3d_rendered_image.jpg\")"
      ]
    }
  ],
  "metadata": {
    "kernelspec": {
      "display_name": "Python 3",
      "language": "python",
      "name": "python3"
    },
    "language_info": {
      "codemirror_mode": {
        "name": "ipython",
        "version": 3
      },
      "file_extension": ".py",
      "mimetype": "text/x-python",
      "name": "python",
      "nbconvert_exporter": "python",
      "pygments_lexer": "ipython3",
      "version": "3.9.13"
    }
  },
  "nbformat": 4,
  "nbformat_minor": 0
}