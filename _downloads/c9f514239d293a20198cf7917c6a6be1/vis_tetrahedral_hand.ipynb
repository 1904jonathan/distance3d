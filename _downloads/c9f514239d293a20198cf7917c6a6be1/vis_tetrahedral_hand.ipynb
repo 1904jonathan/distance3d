{
  "cells": [
    {
      "cell_type": "code",
      "execution_count": null,
      "metadata": {
        "collapsed": false
      },
      "outputs": [],
      "source": [
        "%matplotlib inline"
      ]
    },
    {
      "cell_type": "markdown",
      "metadata": {},
      "source": [
        "\n# Hand as tetrahedral mesh\n"
      ]
    },
    {
      "cell_type": "code",
      "execution_count": null,
      "metadata": {
        "collapsed": false
      },
      "outputs": [],
      "source": [
        "print(__doc__)\n\nimport os\nfrom pytransform3d.urdf import UrdfTransformManager\nimport pytransform3d.visualizer as pv\nfrom distance3d.hydroelastic_contact._broad_phase import HydroelasticBoundingVolumeHierarchy\n\nfig = pv.figure()\n\nBASE_DIR = \"test/data/\"\ndata_dir = BASE_DIR\nsearch_path = \"..\"\nwhile (not os.path.exists(data_dir) and\n       os.path.dirname(search_path) != \"distance3d\"):\n    search_path = os.path.join(search_path, \"..\")\n    data_dir = os.path.join(search_path, BASE_DIR)\n\ntm = UrdfTransformManager()\nfilename = os.path.join(data_dir, \"mia_hand.urdf\")\nwith open(filename, \"r\") as f:\n    robot_urdf = f.read()\n    tm.load_urdf(robot_urdf, mesh_path=data_dir)\n\nfinger_angle = [1, 0.8, 0.5, 0.3, 0.2]\njoint_names = [\"j_index_fle\", \"j_mrl_fle\", \"j_ring_fle\", \"j_little_fle\", \"j_thumb_fle\"]\n\nfor i, joint_name in enumerate(joint_names):\n    tm.set_joint(joint_name, finger_angle[i])\n\nrobot_bvh = HydroelasticBoundingVolumeHierarchy(tm, \"mia_hand\")\nrobot_bvh.fill_tree_with_colliders(tm, make_artists=True)\n\nfor artist in robot_bvh.get_artists():\n    artist.add_artist(fig)\n\nfig.view_init()\nfig.show()"
      ]
    }
  ],
  "metadata": {
    "kernelspec": {
      "display_name": "Python 3",
      "language": "python",
      "name": "python3"
    },
    "language_info": {
      "codemirror_mode": {
        "name": "ipython",
        "version": 3
      },
      "file_extension": ".py",
      "mimetype": "text/x-python",
      "name": "python",
      "nbconvert_exporter": "python",
      "pygments_lexer": "ipython3",
      "version": "3.9.13"
    }
  },
  "nbformat": 4,
  "nbformat_minor": 0
}