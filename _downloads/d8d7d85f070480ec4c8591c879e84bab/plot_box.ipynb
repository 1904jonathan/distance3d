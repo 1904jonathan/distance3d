{
  "cells": [
    {
      "cell_type": "code",
      "execution_count": null,
      "metadata": {
        "collapsed": false
      },
      "outputs": [],
      "source": [
        "%matplotlib inline"
      ]
    },
    {
      "cell_type": "markdown",
      "metadata": {},
      "source": [
        "\n# Distance between boxes with GJK\n"
      ]
    },
    {
      "cell_type": "code",
      "execution_count": null,
      "metadata": {
        "collapsed": false
      },
      "outputs": [],
      "source": [
        "print(__doc__)\nimport time\nimport numpy as np\nimport matplotlib.pyplot as plt\nimport pytransform3d.plot_utils as ppu\nfrom distance3d import gjk, random, geometry, plotting, colliders\n\n\nrandom_state = np.random.RandomState(0)\nbox2origin, size = random.rand_box(random_state, 0.1, 3)\nvertices = geometry.convert_box_to_vertices(box2origin, size)\nbox_collider = colliders.Box(box2origin, size)\n\nax = ppu.make_3d_axis(ax_s=3)\n\naccumulated_time = 0.0\nfor i in range(3000):\n    box2origin2, size2 = random.rand_box(random_state, 2, 1)\n    box_collider2 = colliders.Box(box2origin2, size2)\n    start = time.time()\n    dist, contact_point_box, contact_point_box2, _ = gjk.gjk_with_simplex(\n        box_collider, box_collider2)\n    end = time.time()\n    accumulated_time += end - start\n    print(dist)\n    if i > 10:\n        continue\n    plotting.plot_segment(\n        ax, contact_point_box, contact_point_box2, c=\"k\", lw=1)\n    ppu.plot_box(ax=ax, A2B=box2origin2, size=size2, wireframe=False, alpha=0.2)\nprint(f\"{accumulated_time=}\")\n\nppu.plot_box(\n    ax=ax, A2B=box2origin, size=size, wireframe=False, alpha=0.5,\n    color=\"yellow\")\nplt.show()"
      ]
    }
  ],
  "metadata": {
    "kernelspec": {
      "display_name": "Python 3",
      "language": "python",
      "name": "python3"
    },
    "language_info": {
      "codemirror_mode": {
        "name": "ipython",
        "version": 3
      },
      "file_extension": ".py",
      "mimetype": "text/x-python",
      "name": "python",
      "nbconvert_exporter": "python",
      "pygments_lexer": "ipython3",
      "version": "3.8.8"
    }
  },
  "nbformat": 4,
  "nbformat_minor": 0
}