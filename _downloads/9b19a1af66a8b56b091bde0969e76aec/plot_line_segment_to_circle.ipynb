{
  "cells": [
    {
      "cell_type": "code",
      "execution_count": null,
      "metadata": {
        "collapsed": false
      },
      "outputs": [],
      "source": [
        "%matplotlib inline"
      ]
    },
    {
      "cell_type": "markdown",
      "metadata": {},
      "source": [
        "\n# Distance from line segment to circle\n"
      ]
    },
    {
      "cell_type": "code",
      "execution_count": null,
      "metadata": {
        "collapsed": false
      },
      "outputs": [],
      "source": [
        "print(__doc__)\nimport time\nimport numpy as np\nimport matplotlib.pyplot as plt\nimport pytransform3d.plot_utils as ppu\nfrom distance3d.distance import line_segment_to_circle\nfrom distance3d import random, plotting\n\n\nrandom_state = np.random.RandomState(0)\ncenter = np.zeros(3)\nradius = 1\nnormal = np.array([0.0, 0.0, 1.0])\n\nax = ppu.make_3d_axis(ax_s=2)\n\naccumulated_time = 0.0\nfor i in range(3500):\n    segment_start, segment_end = random.randn_line_segment(random_state)\n    start = time.time()\n    dist, closest_point_segment, closest_point_circle = line_segment_to_circle(\n        segment_start, segment_end, center, radius, normal)\n    end = time.time()\n    accumulated_time += end - start\n    print(dist)\n    if i > 10:\n        continue\n    plotting.plot_segment(ax, closest_point_segment, closest_point_circle, c=\"k\", lw=1)\n    plotting.plot_segment(ax, segment_start, segment_end)\nprint(f\"{accumulated_time=}\")\n\nplotting.plot_circle(ax, center, radius, normal, surface_alpha=0)\nplt.show()"
      ]
    }
  ],
  "metadata": {
    "kernelspec": {
      "display_name": "Python 3",
      "language": "python",
      "name": "python3"
    },
    "language_info": {
      "codemirror_mode": {
        "name": "ipython",
        "version": 3
      },
      "file_extension": ".py",
      "mimetype": "text/x-python",
      "name": "python",
      "nbconvert_exporter": "python",
      "pygments_lexer": "ipython3",
      "version": "3.8.8"
    }
  },
  "nbformat": 4,
  "nbformat_minor": 0
}