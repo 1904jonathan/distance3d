{
  "cells": [
    {
      "cell_type": "code",
      "execution_count": null,
      "metadata": {
        "collapsed": false
      },
      "outputs": [],
      "source": [
        "%matplotlib inline"
      ]
    },
    {
      "cell_type": "markdown",
      "metadata": {},
      "source": [
        "\n# Distance from line to line\n"
      ]
    },
    {
      "cell_type": "code",
      "execution_count": null,
      "metadata": {
        "collapsed": false
      },
      "outputs": [],
      "source": [
        "print(__doc__)\nimport time\nimport numpy as np\nimport matplotlib.pyplot as plt\nimport pytransform3d.plot_utils as ppu\nfrom distance3d.distance import line_to_line\nfrom distance3d import random, plotting\n\n\nrandom_state = np.random.RandomState(0)\nline_point1, line_direction1 = random.randn_line(random_state)\n\nax = ppu.make_3d_axis(ax_s=3)\n\naccumulated_time = 0.0\nfor i in range(85000):\n    line_point2, line_direction2 = random.randn_line(random_state)\n    if random_state.rand() < 0.5:\n        line_direction2 = line_direction1\n    start = time.time()\n    dist, closest_point1, closest_point2 = line_to_line(\n        line_point1, line_direction1, line_point2, line_direction2)\n    end = time.time()\n    accumulated_time += end - start\n    print(dist)\n    if i > 10:\n        continue\n    plotting.plot_segment(ax, closest_point1, closest_point2, c=\"k\", lw=1)\n    plotting.plot_line(ax, line_point2, line_direction2)\nprint(f\"{accumulated_time=}\")\n\nplotting.plot_line(ax, line_point1, line_direction1)\nplt.show()"
      ]
    }
  ],
  "metadata": {
    "kernelspec": {
      "display_name": "Python 3",
      "language": "python",
      "name": "python3"
    },
    "language_info": {
      "codemirror_mode": {
        "name": "ipython",
        "version": 3
      },
      "file_extension": ".py",
      "mimetype": "text/x-python",
      "name": "python",
      "nbconvert_exporter": "python",
      "pygments_lexer": "ipython3",
      "version": "3.8.8"
    }
  },
  "nbformat": 4,
  "nbformat_minor": 0
}