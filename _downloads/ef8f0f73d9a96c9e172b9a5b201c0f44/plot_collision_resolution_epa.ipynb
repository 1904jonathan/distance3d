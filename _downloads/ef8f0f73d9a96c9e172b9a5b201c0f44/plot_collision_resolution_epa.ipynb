{
  "cells": [
    {
      "cell_type": "code",
      "execution_count": null,
      "metadata": {
        "collapsed": false
      },
      "outputs": [],
      "source": [
        "%matplotlib inline"
      ]
    },
    {
      "cell_type": "markdown",
      "metadata": {},
      "source": [
        "\n# Collision resolution with EPA after GJK\n"
      ]
    },
    {
      "cell_type": "code",
      "execution_count": null,
      "metadata": {
        "collapsed": false
      },
      "outputs": [],
      "source": [
        "print(__doc__)\nimport numpy as np\nimport matplotlib.pyplot as plt\nimport pytransform3d.plot_utils as ppu\nfrom distance3d import random, plotting, gjk, epa\n\n\nrandom_state = np.random.RandomState(0)\nvertices, faces = random.randn_convex(random_state, center_scale=0.0)\nvertices2, faces2 = random.randn_convex(random_state, center_scale=0.2)\ndist, p1, p2, simplex = gjk.gjk_with_simplex(gjk.Convex(vertices), gjk.Convex(vertices2))\nmtv, minkowski_faces, success = epa.epa(simplex, gjk.Convex(vertices), gjk.Convex(vertices2))\nassert success\nassert all(p1 == p2)\nprint(p1)\nprint(mtv)\n\nax = ppu.make_3d_axis(ax_s=4, pos=131)\nplotting.plot_convex(ax, vertices, faces, alpha=0.1)\nplotting.plot_convex(ax, vertices2, faces2, alpha=0.1, color=\"r\")\nax.scatter(p1[0], p1[1], p1[2])\nppu.plot_vector(ax, p1, mtv)\n\nax = ppu.make_3d_axis(ax_s=4, pos=132)\nplotting.plot_convex(ax, vertices, faces, alpha=0.1)\nplotting.plot_convex(ax, vertices2 + mtv[np.newaxis], faces2 + mtv[np.newaxis, np.newaxis], alpha=0.1, color=\"g\")\nplotting.plot_segment(ax, p1, p2 + mtv)\n\nax = ppu.make_3d_axis(ax_s=4, pos=133)\nminkowski_points = gjk.minkowski_sum(vertices, -vertices2)\nax.scatter(minkowski_points[:, 0], minkowski_points[:, 1], minkowski_points[:, 2])\nplotting.plot_tetrahedron(ax, simplex)\nfor f in minkowski_faces:\n    plotting.plot_triangle(ax, f[:3])\nax.scatter(0, 0, 0)\nax.scatter(mtv[0], mtv[1], mtv[2])\n\nplt.show()"
      ]
    }
  ],
  "metadata": {
    "kernelspec": {
      "display_name": "Python 3",
      "language": "python",
      "name": "python3"
    },
    "language_info": {
      "codemirror_mode": {
        "name": "ipython",
        "version": 3
      },
      "file_extension": ".py",
      "mimetype": "text/x-python",
      "name": "python",
      "nbconvert_exporter": "python",
      "pygments_lexer": "ipython3",
      "version": "3.8.8"
    }
  },
  "nbformat": 4,
  "nbformat_minor": 0
}