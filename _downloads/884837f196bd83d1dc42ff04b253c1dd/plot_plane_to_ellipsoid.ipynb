{
  "cells": [
    {
      "cell_type": "code",
      "execution_count": null,
      "metadata": {
        "collapsed": false
      },
      "outputs": [],
      "source": [
        "%matplotlib inline"
      ]
    },
    {
      "cell_type": "markdown",
      "metadata": {},
      "source": [
        "\n# Distance from plane to ellipsoid\n"
      ]
    },
    {
      "cell_type": "code",
      "execution_count": null,
      "metadata": {
        "collapsed": false
      },
      "outputs": [],
      "source": [
        "print(__doc__)\nimport time\nimport numpy as np\nimport matplotlib.pyplot as plt\nimport pytransform3d.transformations as pt\nimport pytransform3d.plot_utils as ppu\nfrom distance3d.distance import plane_to_ellipsoid\nfrom distance3d import random, plotting\n\n\nrandom_state = np.random.RandomState(2)\nellipsoid2origin, radii = random.rand_ellipsoid(random_state)\n\nax = ppu.make_3d_axis(ax_s=2)\n\naccumulated_time = 0.0\nfor i in range(15000):\n    plane_point, plane_normal = random.randn_plane(random_state)\n    start = time.time()\n    dist, closest_point_plane, closest_point_ellipsoid = plane_to_ellipsoid(\n        plane_point, plane_normal, ellipsoid2origin, radii)\n    end = time.time()\n    accumulated_time += end - start\n    print(dist)\n    if i > 1:\n        continue\n    plotting.plot_segment(ax, closest_point_plane, closest_point_ellipsoid,\n                          c=\"k\", lw=1)\n    plotting.plot_plane(\n        ax=ax, plane_point=plane_point, plane_normal=plane_normal, s=2,\n        color=\"b\")\nprint(f\"{accumulated_time=}\")\n\nppu.plot_ellipsoid(ax=ax, A2B=ellipsoid2origin, radii=radii, wireframe=False, alpha=0.5)\npt.plot_transform(ax=ax, A2B=ellipsoid2origin, s=0.1)\n\nplt.show()"
      ]
    }
  ],
  "metadata": {
    "kernelspec": {
      "display_name": "Python 3",
      "language": "python",
      "name": "python3"
    },
    "language_info": {
      "codemirror_mode": {
        "name": "ipython",
        "version": 3
      },
      "file_extension": ".py",
      "mimetype": "text/x-python",
      "name": "python",
      "nbconvert_exporter": "python",
      "pygments_lexer": "ipython3",
      "version": "3.9.13"
    }
  },
  "nbformat": 4,
  "nbformat_minor": 0
}