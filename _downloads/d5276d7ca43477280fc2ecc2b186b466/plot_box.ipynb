{
  "cells": [
    {
      "cell_type": "code",
      "execution_count": null,
      "metadata": {
        "collapsed": false
      },
      "outputs": [],
      "source": [
        "%matplotlib inline"
      ]
    },
    {
      "cell_type": "markdown",
      "metadata": {},
      "source": [
        "\n# Box Containment\n"
      ]
    },
    {
      "cell_type": "code",
      "execution_count": null,
      "metadata": {
        "collapsed": false
      },
      "outputs": [],
      "source": [
        "print(__doc__)\nimport time\nimport numpy as np\nimport matplotlib.pyplot as plt\nimport pytransform3d.plot_utils as ppu\nfrom distance3d import containment_test\n\n\nrandom_state = np.random.RandomState(0)\nbox2origin = np.eye(4)\nsize = np.ones(3)\n\nax = ppu.make_3d_axis(ax_s=3)\npoints = random_state.rand(100000, 3)\npoints[:, 0] -= 0.5\npoints[:, 0] *= 2.0\npoints[:, 2] -= 0.5\npoints[:, 2] *= 2.0\nstart = time.time()\ncontained = containment_test.points_in_box(points, box2origin, size)\nstop = time.time()\nprint(f\"{stop - start} s\")\nax.scatter(points[::10, 0], points[::10, 1], points[::10, 2], c=contained[::10])\nppu.plot_box(ax=ax, A2B=box2origin, size=size, wireframe=True, color=\"r\")\nppu.plot_box(ax=ax, A2B=box2origin, size=size, wireframe=False, alpha=0.5)\nplt.show()"
      ]
    }
  ],
  "metadata": {
    "kernelspec": {
      "display_name": "Python 3",
      "language": "python",
      "name": "python3"
    },
    "language_info": {
      "codemirror_mode": {
        "name": "ipython",
        "version": 3
      },
      "file_extension": ".py",
      "mimetype": "text/x-python",
      "name": "python",
      "nbconvert_exporter": "python",
      "pygments_lexer": "ipython3",
      "version": "3.8.8"
    }
  },
  "nbformat": 4,
  "nbformat_minor": 0
}