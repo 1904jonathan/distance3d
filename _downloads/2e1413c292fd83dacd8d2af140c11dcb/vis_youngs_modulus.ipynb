{
  "cells": [
    {
      "cell_type": "code",
      "execution_count": null,
      "metadata": {
        "collapsed": false
      },
      "outputs": [],
      "source": [
        "%matplotlib inline"
      ]
    },
    {
      "cell_type": "markdown",
      "metadata": {},
      "source": [
        "\n# Visualize pressure fields with different young's moduli\n"
      ]
    },
    {
      "cell_type": "code",
      "execution_count": null,
      "metadata": {
        "collapsed": false
      },
      "outputs": [],
      "source": [
        "print(__doc__)\n\nimport numpy as np\nimport pytransform3d.visualizer as pv\nfrom distance3d import visualization, hydroelastic_contact, benchmark\n\nrigid_body1 = hydroelastic_contact.RigidBody.make_sphere(np.array([0.5, 0, 0]), 0.15, 2)\nrigid_body2 = hydroelastic_contact.RigidBody.make_sphere(np.array([0.5, 0.12, 0]), 0.15, 2)\n\nrigid_body1.youngs_modulus = 10\nrigid_body2.youngs_modulus = 0.1\n\nrigid_body3 = hydroelastic_contact.RigidBody.make_sphere(np.array([0, 0, 0]), 0.15, 2)\nrigid_body4 = hydroelastic_contact.RigidBody.make_sphere(np.array([0, 0.12, 0]), 0.15, 2)\n\nrigid_body3.youngs_modulus = 10\nrigid_body4.youngs_modulus = 15\n\nrigid_body5 = hydroelastic_contact.RigidBody.make_sphere(np.array([-0.5, 0, 0]), 0.15, 2)\nrigid_body6 = hydroelastic_contact.RigidBody.make_sphere(np.array([-0.5, 0.12, 0]), 0.15, 2)\n\nrigid_body5.youngs_modulus = 0.1\nrigid_body6.youngs_modulus = 0.2\n\ntimer = benchmark.Timer()\ntimer.start(\"contact_forces\")\n\nintersection1, _, _, details1 = hydroelastic_contact.contact_forces(rigid_body1, rigid_body2, return_details=True)\nintersection2, _, _, details2 = hydroelastic_contact.contact_forces(rigid_body3, rigid_body4, return_details=True)\nintersection3, _, _, details3 = hydroelastic_contact.contact_forces(rigid_body5, rigid_body6, return_details=True)\n\nprint(f\"time: {timer.stop('contact_forces')}\")\n\nfig = pv.figure()\nfig.plot_transform(np.eye(4), s=0.1)\n\n\ndef vis_mesh(rigid_body):\n    visualization.RigidBodyTetrahedralMesh(\n        rigid_body.body2origin_, rigid_body.vertices_, rigid_body.tetrahedra_).add_artist(fig)\n\n\nvis_mesh(rigid_body1)\nvis_mesh(rigid_body2)\nvis_mesh(rigid_body3)\nvis_mesh(rigid_body4)\nvis_mesh(rigid_body5)\nvis_mesh(rigid_body6)\n\n\ndef vis_contact_surface(details):\n    contact_surface = visualization.ContactSurface(\n        np.eye(4), details[\"contact_polygons\"],\n        details[\"contact_polygon_triangles\"], details[\"pressures\"])\n    contact_surface.add_artist(fig)\n\n\nvis_contact_surface(details1)\nvis_contact_surface(details2)\nvis_contact_surface(details3)\n\nfig.view_init()\n\nif \"__file__\" in globals():\n    fig.show()\nelse:\n    fig.save_image(\"__open3d_rendered_image.jpg\")"
      ]
    }
  ],
  "metadata": {
    "kernelspec": {
      "display_name": "Python 3",
      "language": "python",
      "name": "python3"
    },
    "language_info": {
      "codemirror_mode": {
        "name": "ipython",
        "version": 3
      },
      "file_extension": ".py",
      "mimetype": "text/x-python",
      "name": "python",
      "nbconvert_exporter": "python",
      "pygments_lexer": "ipython3",
      "version": "3.9.13"
    }
  },
  "nbformat": 4,
  "nbformat_minor": 0
}