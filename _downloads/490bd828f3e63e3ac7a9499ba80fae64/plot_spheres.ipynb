{
  "cells": [
    {
      "cell_type": "code",
      "execution_count": null,
      "metadata": {
        "collapsed": false
      },
      "outputs": [],
      "source": [
        "%matplotlib inline"
      ]
    },
    {
      "cell_type": "markdown",
      "metadata": {},
      "source": [
        "\n# Distance between spheres with GJK\n"
      ]
    },
    {
      "cell_type": "code",
      "execution_count": null,
      "metadata": {
        "collapsed": false
      },
      "outputs": [],
      "source": [
        "print(__doc__)\nimport time\nimport numpy as np\nimport matplotlib.pyplot as plt\nimport pytransform3d.plot_utils as ppu\nfrom distance3d import gjk, colliders\nfrom distance3d import random\nfrom distance3d import plotting\n\n\nrandom_state = np.random.RandomState(0)\ncenter, radius = random.rand_sphere(random_state, 0.2, 1.0)\n\nax = ppu.make_3d_axis(ax_s=2)\n\naccumulated_time = 0.0\nfor i in range(1000):\n    center2, radius2 = random.rand_sphere(random_state, 1.0, 1.0)\n    start = time.time()\n    s1 = colliders.Sphere(center, radius)\n    s2 = colliders.Sphere(center2, radius2)\n    dist, closest_point_sphere, closest_point_sphere2, _ = gjk.gjk(s1, s2)\n    end = time.time()\n    accumulated_time += end - start\n    print(dist)\n    if i > 5:\n        continue\n    plotting.plot_segment(\n        ax, closest_point_sphere, closest_point_sphere2, c=\"k\", lw=1)\n    ppu.plot_sphere(ax, p=center2, radius=radius2, wireframe=False, alpha=0.2)\nprint(f\"{accumulated_time=}\")\n\nppu.plot_sphere(\n    ax, p=center, radius=radius, color=\"yellow\", wireframe=False, alpha=0.5)\nplt.show()"
      ]
    }
  ],
  "metadata": {
    "kernelspec": {
      "display_name": "Python 3",
      "language": "python",
      "name": "python3"
    },
    "language_info": {
      "codemirror_mode": {
        "name": "ipython",
        "version": 3
      },
      "file_extension": ".py",
      "mimetype": "text/x-python",
      "name": "python",
      "nbconvert_exporter": "python",
      "pygments_lexer": "ipython3",
      "version": "3.9.13"
    }
  },
  "nbformat": 4,
  "nbformat_minor": 0
}